{
  "nbformat": 4,
  "nbformat_minor": 0,
  "metadata": {
    "colab": {
      "name": "python.ipynb",
      "provenance": [],
      "authorship_tag": "ABX9TyNGk2BCvwMggTjTgfHWL2KI",
      "include_colab_link": true
    },
    "kernelspec": {
      "name": "python3",
      "display_name": "Python 3"
    },
    "language_info": {
      "name": "python"
    }
  },
  "cells": [
    {
      "cell_type": "markdown",
      "metadata": {
        "id": "view-in-github",
        "colab_type": "text"
      },
      "source": [
        "<a href=\"https://colab.research.google.com/github/anksi/ac4c/blob/main/python.ipynb\" target=\"_parent\"><img src=\"https://colab.research.google.com/assets/colab-badge.svg\" alt=\"Open In Colab\"/></a>"
      ]
    },
    {
      "cell_type": "code",
      "metadata": {
        "id": "G4wJ2vgMOp9U"
      },
      "source": [
        "import pandas as pd"
      ],
      "execution_count": 17,
      "outputs": []
    },
    {
      "cell_type": "code",
      "metadata": {
        "colab": {
          "resources": {
            "http://localhost:8080/nbextensions/google.colab/files.js": {
              "data": "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",
              "ok": true,
              "headers": [
                [
                  "content-type",
                  "application/javascript"
                ]
              ],
              "status": 200,
              "status_text": ""
            }
          },
          "base_uri": "https://localhost:8080/",
          "height": 106
        },
        "id": "klI7WeJzgGtT",
        "outputId": "d739bdf7-e8ee-4d26-e970-8ec0bbda1de7"
      },
      "source": [
        "from google.colab import files\n",
        "uploaded = files.upload()"
      ],
      "execution_count": 14,
      "outputs": [
        {
          "output_type": "display_data",
          "data": {
            "text/html": [
              "\n",
              "     <input type=\"file\" id=\"files-c1f4bc1c-d42e-4fb2-ab4b-52098594e33a\" name=\"files[]\" multiple disabled\n",
              "        style=\"border:none\" />\n",
              "     <output id=\"result-c1f4bc1c-d42e-4fb2-ab4b-52098594e33a\">\n",
              "      Upload widget is only available when the cell has been executed in the\n",
              "      current browser session. Please rerun this cell to enable.\n",
              "      </output>\n",
              "      <script src=\"/nbextensions/google.colab/files.js\"></script> "
            ],
            "text/plain": [
              "<IPython.core.display.HTML object>"
            ]
          },
          "metadata": {
            "tags": []
          }
        },
        {
          "output_type": "stream",
          "text": [
            "Saving HeLa_ac4c_All_peaks.narrowPeak.gencode_new_name.bed to HeLa_ac4c_All_peaks.narrowPeak.gencode_new_name.bed\n",
            "Saving NAT10_All_peaks.narrowPeak.gencode_new_name.bed to NAT10_All_peaks.narrowPeak.gencode_new_name.bed\n"
          ],
          "name": "stdout"
        }
      ]
    },
    {
      "cell_type": "code",
      "metadata": {
        "colab": {
          "base_uri": "https://localhost:8080/",
          "height": 204
        },
        "id": "DI1GR2uqe1ge",
        "outputId": "7a6dcfdb-fcb5-420d-e523-64bc0feccaee"
      },
      "source": [
        "NAT10 = pd.read_table('NAT10_All_peaks.narrowPeak.gencode_new_name.bed', sep='\\t', \n",
        "                  names=[\"Chromosome\", \"Start\", \"End\", \"P-val\", \"Gene\", \"Replicate\", \"Sample\"])\n",
        "NAT10.head()\n",
        "HeLa = pd.read_table('HeLa_ac4c_All_peaks.narrowPeak.gencode_new_name.bed', sep='\\t', \n",
        "                  names=[\"Chromosome\", \"Start\", \"End\", \"P-val\", \"Gene\", \"Replicate\", \"Sample\"])\n",
        "HeLa.head()"
      ],
      "execution_count": 18,
      "outputs": [
        {
          "output_type": "execute_result",
          "data": {
            "text/html": [
              "<div>\n",
              "<style scoped>\n",
              "    .dataframe tbody tr th:only-of-type {\n",
              "        vertical-align: middle;\n",
              "    }\n",
              "\n",
              "    .dataframe tbody tr th {\n",
              "        vertical-align: top;\n",
              "    }\n",
              "\n",
              "    .dataframe thead th {\n",
              "        text-align: right;\n",
              "    }\n",
              "</style>\n",
              "<table border=\"1\" class=\"dataframe\">\n",
              "  <thead>\n",
              "    <tr style=\"text-align: right;\">\n",
              "      <th></th>\n",
              "      <th>Chromosome</th>\n",
              "      <th>Start</th>\n",
              "      <th>End</th>\n",
              "      <th>P-val</th>\n",
              "      <th>Gene</th>\n",
              "      <th>Replicate</th>\n",
              "      <th>Sample</th>\n",
              "    </tr>\n",
              "  </thead>\n",
              "  <tbody>\n",
              "    <tr>\n",
              "      <th>0</th>\n",
              "      <td>chr22</td>\n",
              "      <td>43088174</td>\n",
              "      <td>43088850</td>\n",
              "      <td>47.63986</td>\n",
              "      <td>A4GALT</td>\n",
              "      <td>Rep2peakFile-7861</td>\n",
              "      <td>HeLa</td>\n",
              "    </tr>\n",
              "    <tr>\n",
              "      <th>1</th>\n",
              "      <td>chr12</td>\n",
              "      <td>125549991</td>\n",
              "      <td>125550188</td>\n",
              "      <td>27.50999</td>\n",
              "      <td>AACS</td>\n",
              "      <td>Rep2peakFile-2482</td>\n",
              "      <td>HeLa</td>\n",
              "    </tr>\n",
              "    <tr>\n",
              "      <th>2</th>\n",
              "      <td>chr4</td>\n",
              "      <td>171011057</td>\n",
              "      <td>171011196</td>\n",
              "      <td>5.87097</td>\n",
              "      <td>AADAT</td>\n",
              "      <td>Rep2peakFile-8647</td>\n",
              "      <td>HeLa</td>\n",
              "    </tr>\n",
              "    <tr>\n",
              "      <th>3</th>\n",
              "      <td>chr11</td>\n",
              "      <td>77532407</td>\n",
              "      <td>77532681</td>\n",
              "      <td>6.42777</td>\n",
              "      <td>AAMDC</td>\n",
              "      <td>Rep2peakFile-1940</td>\n",
              "      <td>HeLa</td>\n",
              "    </tr>\n",
              "    <tr>\n",
              "      <th>4</th>\n",
              "      <td>chr2</td>\n",
              "      <td>219132290</td>\n",
              "      <td>219132436</td>\n",
              "      <td>14.89371</td>\n",
              "      <td>AAMP</td>\n",
              "      <td>Rep2peakFile-6897</td>\n",
              "      <td>HeLa</td>\n",
              "    </tr>\n",
              "  </tbody>\n",
              "</table>\n",
              "</div>"
            ],
            "text/plain": [
              "  Chromosome      Start        End     P-val    Gene          Replicate Sample\n",
              "0      chr22   43088174   43088850  47.63986  A4GALT  Rep2peakFile-7861   HeLa\n",
              "1      chr12  125549991  125550188  27.50999    AACS  Rep2peakFile-2482   HeLa\n",
              "2       chr4  171011057  171011196   5.87097   AADAT  Rep2peakFile-8647   HeLa\n",
              "3      chr11   77532407   77532681   6.42777   AAMDC  Rep2peakFile-1940   HeLa\n",
              "4       chr2  219132290  219132436  14.89371    AAMP  Rep2peakFile-6897   HeLa"
            ]
          },
          "metadata": {
            "tags": []
          },
          "execution_count": 18
        }
      ]
    },
    {
      "cell_type": "code",
      "metadata": {
        "colab": {
          "base_uri": "https://localhost:8080/"
        },
        "id": "ygj_kSv2oWI0",
        "outputId": "a53f16b5-2532-44e4-9bf4-1e7dac8fb484"
      },
      "source": [
        "NAT10[\"Gene\"].head()"
      ],
      "execution_count": 19,
      "outputs": [
        {
          "output_type": "execute_result",
          "data": {
            "text/plain": [
              "0    A4GALT\n",
              "1      AACS\n",
              "2      AATF\n",
              "3      AATF\n",
              "4      AATF\n",
              "Name: Gene, dtype: object"
            ]
          },
          "metadata": {
            "tags": []
          },
          "execution_count": 19
        }
      ]
    },
    {
      "cell_type": "code",
      "metadata": {
        "colab": {
          "base_uri": "https://localhost:8080/",
          "height": 204
        },
        "id": "WT8Nv4_ViVkt",
        "outputId": "376b77da-c711-4c45-bee4-680d6227bb87"
      },
      "source": [
        "df=pd.merge(NAT10,HeLa, how='inner', on=['Gene'])\n",
        "df.head()"
      ],
      "execution_count": 20,
      "outputs": [
        {
          "output_type": "execute_result",
          "data": {
            "text/html": [
              "<div>\n",
              "<style scoped>\n",
              "    .dataframe tbody tr th:only-of-type {\n",
              "        vertical-align: middle;\n",
              "    }\n",
              "\n",
              "    .dataframe tbody tr th {\n",
              "        vertical-align: top;\n",
              "    }\n",
              "\n",
              "    .dataframe thead th {\n",
              "        text-align: right;\n",
              "    }\n",
              "</style>\n",
              "<table border=\"1\" class=\"dataframe\">\n",
              "  <thead>\n",
              "    <tr style=\"text-align: right;\">\n",
              "      <th></th>\n",
              "      <th>Chromosome_x</th>\n",
              "      <th>Start_x</th>\n",
              "      <th>End_x</th>\n",
              "      <th>P-val_x</th>\n",
              "      <th>Gene</th>\n",
              "      <th>Replicate_x</th>\n",
              "      <th>Sample_x</th>\n",
              "      <th>Chromosome_y</th>\n",
              "      <th>Start_y</th>\n",
              "      <th>End_y</th>\n",
              "      <th>P-val_y</th>\n",
              "      <th>Replicate_y</th>\n",
              "      <th>Sample_y</th>\n",
              "    </tr>\n",
              "  </thead>\n",
              "  <tbody>\n",
              "    <tr>\n",
              "      <th>0</th>\n",
              "      <td>chr22</td>\n",
              "      <td>43088278</td>\n",
              "      <td>43088713</td>\n",
              "      <td>10.49935</td>\n",
              "      <td>A4GALT</td>\n",
              "      <td>Rep2peakFile-2676</td>\n",
              "      <td>NAT10</td>\n",
              "      <td>chr22</td>\n",
              "      <td>43088174</td>\n",
              "      <td>43088850</td>\n",
              "      <td>47.63986</td>\n",
              "      <td>Rep2peakFile-7861</td>\n",
              "      <td>HeLa</td>\n",
              "    </tr>\n",
              "    <tr>\n",
              "      <th>1</th>\n",
              "      <td>chr12</td>\n",
              "      <td>125550000</td>\n",
              "      <td>125550149</td>\n",
              "      <td>12.96269</td>\n",
              "      <td>AACS</td>\n",
              "      <td>Rep2peakFile-948</td>\n",
              "      <td>NAT10</td>\n",
              "      <td>chr12</td>\n",
              "      <td>125549991</td>\n",
              "      <td>125550188</td>\n",
              "      <td>27.50999</td>\n",
              "      <td>Rep2peakFile-2482</td>\n",
              "      <td>HeLa</td>\n",
              "    </tr>\n",
              "    <tr>\n",
              "      <th>2</th>\n",
              "      <td>chr17</td>\n",
              "      <td>35306301</td>\n",
              "      <td>35306472</td>\n",
              "      <td>22.51576</td>\n",
              "      <td>AATF</td>\n",
              "      <td>Rep2peakFile-1525</td>\n",
              "      <td>NAT10</td>\n",
              "      <td>chr17</td>\n",
              "      <td>35306245</td>\n",
              "      <td>35306477</td>\n",
              "      <td>66.79805</td>\n",
              "      <td>Rep2peakFile-4379</td>\n",
              "      <td>HeLa</td>\n",
              "    </tr>\n",
              "    <tr>\n",
              "      <th>3</th>\n",
              "      <td>chr17</td>\n",
              "      <td>35306301</td>\n",
              "      <td>35306472</td>\n",
              "      <td>22.51576</td>\n",
              "      <td>AATF</td>\n",
              "      <td>Rep2peakFile-1525</td>\n",
              "      <td>NAT10</td>\n",
              "      <td>chr17</td>\n",
              "      <td>35307392</td>\n",
              "      <td>35307641</td>\n",
              "      <td>55.17442</td>\n",
              "      <td>Rep2peakFile-4380</td>\n",
              "      <td>HeLa</td>\n",
              "    </tr>\n",
              "    <tr>\n",
              "      <th>4</th>\n",
              "      <td>chr17</td>\n",
              "      <td>35306301</td>\n",
              "      <td>35306472</td>\n",
              "      <td>22.51576</td>\n",
              "      <td>AATF</td>\n",
              "      <td>Rep2peakFile-1525</td>\n",
              "      <td>NAT10</td>\n",
              "      <td>chr17</td>\n",
              "      <td>35310168</td>\n",
              "      <td>35310459</td>\n",
              "      <td>8.91026</td>\n",
              "      <td>Rep2peakFile-4381</td>\n",
              "      <td>HeLa</td>\n",
              "    </tr>\n",
              "  </tbody>\n",
              "</table>\n",
              "</div>"
            ],
            "text/plain": [
              "  Chromosome_x    Start_x      End_x  ...   P-val_y        Replicate_y Sample_y\n",
              "0        chr22   43088278   43088713  ...  47.63986  Rep2peakFile-7861     HeLa\n",
              "1        chr12  125550000  125550149  ...  27.50999  Rep2peakFile-2482     HeLa\n",
              "2        chr17   35306301   35306472  ...  66.79805  Rep2peakFile-4379     HeLa\n",
              "3        chr17   35306301   35306472  ...  55.17442  Rep2peakFile-4380     HeLa\n",
              "4        chr17   35306301   35306472  ...   8.91026  Rep2peakFile-4381     HeLa\n",
              "\n",
              "[5 rows x 13 columns]"
            ]
          },
          "metadata": {
            "tags": []
          },
          "execution_count": 20
        }
      ]
    },
    {
      "cell_type": "code",
      "metadata": {
        "colab": {
          "base_uri": "https://localhost:8080/"
        },
        "id": "CpFmRdROu3GW",
        "outputId": "be9fb8b4-e0a9-4842-ec18-0e106daf765d"
      },
      "source": [
        "set_difference_NAT10 = set(NAT10[\"Gene\"]) - set(HeLa[\"Gene\"])\n",
        "list_difference_NAT10 = list(set_difference_NAT10)\n",
        "print(list_difference_NAT10)\n"
      ],
      "execution_count": 21,
      "outputs": [
        {
          "output_type": "stream",
          "text": [
            "['ARFGEF2', 'PCAT1', 'TNFRSF21', 'AC006064.2', 'SYF2', 'RRM1', 'PPIC', 'LINC01707', 'GNPNAT1', 'CHST5', 'MT-CO2', 'LMNB1', 'ESF1', 'MAPRE1', 'DDX3X', 'HLTF', 'PPP1R14C', 'RNF168', 'PKP4-AS1', 'RHBDF2', 'DDR2', 'TRIP11', 'RPL7A', 'EAF1', 'B4GALT1', 'CCT6A', 'DHX57', 'FRMD5', 'SREK1IP1', 'PBDC1', 'RPL19', 'MGAT3', 'BTF3L4', 'NOP58', 'RPL26', 'TIPARP-AS1', 'EFL1', 'GPR83', 'AC010653.2', 'AL356488.2', 'CANX', 'H2AC4', 'PSMD7', 'AC010197.2', 'MTF1', 'H3C2', 'AC084337.2', 'ATAD2', 'HSP90AA2P', 'LDHB', 'USH1G', 'CSPP1', 'NDUFAF5', 'SLC22A5', 'COX7A2L', 'ARID4A', 'H1-2', 'LINC02076', 'CCNC', 'AC090510.1', 'ATXN1L', 'RBM28', 'RNU4-1', 'MT-TS2', 'PMEL', 'FAM172A', 'C9orf50', 'TM2D3', 'POLR3G', 'TRIM5', 'ELK3', 'PRKDC', 'PAPSS1', 'RSPH10B', 'EIF4A2', 'TMEM63C', 'PINX1', 'AL139241.1', 'SRL', 'TFAP2A', 'MT-ATP6', 'BSPH1', 'ZHX1', 'APOA1-AS', 'LMBRD2', 'BRIX1', 'ALG1L9P', 'CCZ1', 'MT-ND4L', 'ADCK1', 'SETX', 'RPS6', 'ANKUB1', 'FTX', 'MSH6', 'UPF3AP2', 'VTRNA2-1', 'ERH', 'VIRMA', 'MT-ND3', 'LIN52', 'AP000942.2', 'HELLS', 'NCKAP5', 'H2AC7', 'CHMP1B-AS1', 'LINC00536', 'AC011446.1', 'YWHAG', 'AP3B1', 'ZNF821', 'PITPNM3', 'CCDC59', 'TRIM50', 'SLC30A8', 'MT-CO1', 'GXYLT1', 'HPCA', 'THSD4-AS1', 'CD96', 'MT-ND1', 'MT-CO3', 'NPM1P27', 'PALM2AKAP2', 'ZNF157', 'SRSF11', 'ATP6V0A2', 'TCEAL9', 'NCAPD2', 'CIR1', 'MT-TE', 'CCDC91', 'OFD1', 'FEZ2', 'SLF1', 'EIF2AK4', 'SCD', 'CP', 'NMNAT2', 'YWHAE', 'TPR', 'RPL37', 'LTA4H', 'AC104971.1', 'LINC02228', 'FUT10', 'AC023494.1', 'ZNF460', 'CNTN5', 'LIMS1', 'FAM32A', 'GPBP1L1', 'CCAR1', 'NCK1-DT', 'HPS3', 'AC097641.1', 'AC245060.5', 'FBXW11', 'MT-RNR1', 'USP8', 'MALT1', 'H3C7', 'AP002754.1', 'HSPD1', 'ZMPSTE24', 'CD9', 'UNC13C', 'H3C10', 'GMDS', 'LINC01137', 'LAMP2', 'AL035071.2', 'LINC02595', 'TOP1', 'MT-TF', 'PUM1', 'NSRP1', 'NCOA3', 'COX17', 'ARID4B', 'RNU5E-1', 'IST1', 'HNRNPA1P48', 'TFRC', 'NDUFAF6', 'CLSTN2', 'RN7SL2', 'KDM5A', 'ANO6', 'NECTIN3', 'CLIP1', 'ADGRE2', 'SNHG3', 'PIGX', 'LINC02618', 'DMRT1', 'CCDC144CP', 'NRROS', 'IPO7', 'ARF4', 'STAMBP', 'LINC02211', 'AC105001.1', 'AC103691.1', 'COG1', 'CA8', 'ZHX1-C8orf76', 'USP2-AS1', 'PLCH1', 'CLSPN', 'AC060780.1', 'CILP2', 'WDR43', 'AC135178.4', 'AL627171.2', 'TMEM52B', 'NFYA', 'GABRG3', 'MT-ATP8', 'RDX', 'HSPA4', 'AJAP1', 'METAP2', 'PDE4D', 'NPM1', 'MFAP1', 'AC064836.3', 'AP2A2', 'SMC4', 'PNISR', 'SLC2A3', 'ZRANB2', 'H2BC18', 'H2AC11', 'LINC00842', 'TPT1', 'SEZ6L', 'MT-TK', 'AL031777.2', 'RAD1', 'PLAC4', 'PSD2', 'PPWD1', 'AC008267.1', 'AL031778.1', 'PHACTR1', 'FAM189A2', 'SLC16A10', 'FKBP6', 'DIPK1A', 'SMS', 'ZNRF2P2', 'RNU5A-1', 'PARP16', 'LEPROTL1', 'CDK2', 'SERPINE2', 'SNX24', 'MT-CYB', 'AC079594.1', 'HNRNPK', 'H2AC17', 'TERC', 'SLC38A2', 'KCNMB4', 'NAP1L1', 'AC009120.2', 'SEC62-AS1', 'CTH', 'SETP14', 'NUP62CL', 'AC005609.5', 'MT-ND4', 'ZNF195', 'RNF5P1', 'CTR9', 'AC009163.3', 'AL391730.2', 'AC068189.1', 'STAG1', 'FAM222B', 'PHF21B', 'NUDT14', 'LINC02064', 'GYG1', 'RPL5', 'PERP', 'PLVAP', 'TOP2A', 'RSL1D1', 'RYR1', 'SNORD24', 'TNPO3', 'RNY1', 'AL138828.1', 'DKC1', 'NDEL1', 'EMC2', 'YIPF3', 'CHMP1B', 'SDK1-AS1', 'SPANXN1', 'SRRM1', 'TXN', 'APLP2', 'LRRC7', 'HIST1H4B', 'RPL4', 'LONP2', 'LINC01503', 'RNU4-2', 'PLTP', 'ZMAT2', 'EEF1A1', 'AL021155.4', 'HERC4', 'RNF20', 'INSR', 'AC011603.2', 'PCDHA2', 'CEP192', 'AC135178.3', 'PPP4R2', 'SLC15A3', 'PKHD1', 'BBX', 'EAF1-AS1', 'TSTD3', 'PDE7B', 'MT-TL2', 'PABPC4-AS1', 'CASC19', 'NOTCH2', 'TMEM167A', 'PCDHA1', 'SNORD72', 'AC073046.3', 'ELMO1', 'PNRC1', 'SLC35G2', 'CCL26', 'MSN', 'H4C3', 'TIAM2', 'DOP1B', 'RN7SL3', 'FGF13', 'THOC2', 'AC010463.2', 'H3C12', 'TMED2', 'CPA4', 'HMGB1P6', 'P2RX6', 'SDK1']\n"
          ],
          "name": "stdout"
        }
      ]
    },
    {
      "cell_type": "code",
      "metadata": {
        "colab": {
          "base_uri": "https://localhost:8080/"
        },
        "id": "j-A6aF_5v49m",
        "outputId": "05001e47-751b-4405-bd02-c0f5d26f320d"
      },
      "source": [
        "set_difference_HeLa = set(HeLa[\"Gene\"]) - set(NAT10[\"Gene\"])\n",
        "list_difference_HeLa = list(set_difference_HeLa)\n",
        "print(list_difference_HeLa)"
      ],
      "execution_count": 22,
      "outputs": [
        {
          "output_type": "stream",
          "text": [
            "['HOXB-AS1', 'MIER1', 'MAPKBP1', 'AL450998.2', 'RAD9A', 'CDT1', 'NDUFB2-AS1', 'SLC11A2', 'DNMT3L', 'AC027682.1', 'LINC01357', 'TAF5L', 'VSIG8', 'PTPRU', 'ARSG', 'SCN1B', 'NDRG2', 'AL024508.1', 'CCDC88C', 'NUS1P1', 'SGMS2', 'AL353593.2', 'TLE2', 'SLC12A5-AS1', 'TECPR1', 'AC092078.2', 'SYT17', 'AMDHD2', 'ANKRD50', 'GLI4', 'CHST3', 'AC018766.1', 'SMG7', 'DYSF', 'CHST10', 'ERC1', 'CARMIL2', 'KLF3', 'FAM230A', 'MAN2A1', 'EGLN1', 'RSKR', 'SCARB1', 'MEGF8', 'FAHD1', 'NUFIP2', 'AL138752.2', 'SLC22A3', 'GTPBP1', 'CTCF', 'ARHGEF9', 'RNF31', 'AL451085.2', 'HOXD3', 'RGS20', 'TTC28', 'RELT', 'EFCAB2', 'ATPSCKMT', 'ARL6IP6', 'FA2H', 'AVPI1', 'G6PC3', 'TSPO', 'RIC8A', 'AL161421.1', 'SFI1', 'APOBR', 'HOXB6', 'IKBKGP1', 'TUBB6', 'TPGS2', 'H6PD', 'RHOG', 'HOXC11', 'SZT2', 'YBEY', 'SMIM11A', 'AC007405.1', 'PEX5', 'AC090826.1', 'AP1M1', 'LIPE-AS1', 'TBC1D20', 'RELA', 'FNBP1', 'AC092171.4', 'MUTYH', 'CTPS2', 'IDH2', 'KCTD13', 'AC090587.1', 'OSBPL2', 'AP001189.4', 'MYO15A', 'AL139011.2', 'KIFBP', 'ACSF2', 'LZTR1', 'ADIPOR2', 'ARPC1B', 'BCKDHA', 'RAB35', 'PTK6', 'SUN2', 'TMEM47', 'UCHL5', 'CPSF1', 'IL4R', 'ALDH2', 'ADRA1D', 'RTN4R', 'FNDC11', 'AC063943.2', 'MTHFSD', 'EPB41L4A-DT', 'NPRL3', 'CRIP2', 'MRM1', 'AL139815.1', 'ASTN2', 'AC010327.6', 'BCL3', 'AC091951.3', 'RASA4CP', 'PKD1P6', 'ZNF594', 'AC015813.2', 'AC019069.1', 'AC111170.3', 'ROBO1', 'CAPN7', 'MORN1', 'RASAL2-AS1', 'NUAK1', 'ERBB2', 'FAM78A', 'CLN3', 'LAMTOR1', 'MTNR1A', 'NIPSNAP1', 'SV2C', 'ATG5', 'AC138150.1', 'KCNJ4', 'SOGA3', 'ZNF436-AS1', 'TK1', 'UBXN11', 'ASH1L', 'AC079313.1', 'NOL4L', 'AOPEP', 'RCOR3', 'FAM53C', 'RNF207', 'PSMC3IP', 'MIR5703', 'CHCHD6', 'NUDT16', 'AL162231.2', 'AC008764.2', 'CES2', 'AC097625.1', 'COL18A1', 'HSPBAP1', 'DDAH1', 'CLN8', 'BRWD1', 'COX19', 'CBR1', 'ZNF408', 'ISG15', 'JMJD8', 'METTL9', 'KMT2C', 'AL513327.1', 'PITPNM2', 'AC012531.3', 'ZNF263', 'MRM3', 'ZNF692', 'RAD23A', 'PLCG1-AS1', 'TMEM267', 'BFSP1', 'PTK2', 'AC067930.2', 'AC089999.1', 'GP6', 'FBXO24', 'PTPN23', 'SLC30A1', 'LLGL2', 'RBAK-RBAKDN', 'RMND5B', 'MTG1', 'PLCG1', 'MRPL40', 'TMEM104', 'ZNF212', 'CDC42EP4', 'SGTA', 'P2RX5', 'SCARA5', 'RASD2', 'TAF6L', 'C5AR2', 'CEMIP2', 'FAM149B1', 'HOXD8', 'AL034417.2', 'SNRPE', 'SMCO4', 'ATP2A1-AS1', 'SEC16A', 'TSEN54', 'LIPE', 'CTBP1', 'C2orf68', 'ACVR2A', 'RASSF8', 'ELOA-AS1', 'ZZEF1', 'AC010542.2', 'Z97634.1', 'ZNF514', 'GRWD1', 'ANKRD9', 'STAC', 'SLC1A4', 'ZNF513', 'PTPRN2', 'AP001107.8', 'AC073896.1', 'LMBR1', 'ARHGAP27P1-BPTFP1-KPNA2P3', 'NINJ2', 'AC072054.1', 'AC104461.1', 'GALNT7', 'FAM110D', 'RPIA', 'NBN', 'AMPD2', 'LINC01124', 'PITX3', 'USF1', 'GRAMD2B', 'AC110285.1', 'AC015813.7', 'ALG2', 'CNN2', 'DEF8', 'ZNF341-AS1', 'ZNF592', 'AL645608.2', 'TAF12', 'HEXIM2', 'C5orf66-AS1', 'LINC02693', 'KMT2E-AS1', 'STK10', 'KIAA0930', 'AC005258.1', 'ADAMTS8', 'SLC2A11', 'ADGRL1', 'AC091057.1', 'PLPBP', 'VASH2', 'SLC20A1', 'ESPL1', 'MEGF6', 'MAPK4', 'ZNF511-PRAP1', 'PUSL1', 'RNF139', 'GATD3A', 'UBE2B', 'AC034102.4', 'INTS6', 'AC092053.2', 'ATP2B1-AS1', 'QTRT1', 'C15orf40', 'FAM193B', 'STK40', 'HMOX2', 'CAMSAP3', 'LRRC23', 'AQP3', 'AMIGO2', 'DUT', 'MMP24OS', 'SHROOM1', 'TEPSIN', 'AP001458.1', 'NLE1', 'AC053503.6', 'FAM174B', 'SERTAD1', 'EHD1', 'ALDH3B1', 'RHBDL3', 'HSPA2', 'UBA52', 'SPPL2B', 'PRSS22', 'PHF13', 'MHENCR', 'DOK7', 'HTRA1', 'ZNF142', 'CLIP3', 'CACNB1', 'C1orf198', 'SOX7', 'NR1H2', 'TMEM231', 'TTC7B', 'CERCAM', 'DLGAP4', 'TICRR', 'POLR2L', 'EMP3', 'GPKOW', 'EIF4ENIF1', 'AC012531.2', 'CHKB', 'UACA', 'NDUFS7', 'WDR90', 'AL035411.3', 'PMEPA1', 'LIMK1', 'MFSD10', 'RRN3P3', 'BCL2', 'CHMP4A', 'AC073046.1', 'TMEM102', 'EPS8L2', 'ZNF281', 'POR', 'FAM131C', 'RPGR', 'WHRN', 'JAKMIP3', 'DCXR', 'SEH1L', 'RABGGTA', 'DERPC', 'OMA1', 'MIR4664', 'TUBGCP4', 'MRPL20-AS1', 'FBH1', 'TPCN1', 'CIAO3', 'GATD3B', 'L3MBTL1', 'MATN2', 'ACD', 'CLTA', 'JMJD1C-AS1', 'AL031963.1', 'PIH1D1', 'GALNS', 'TMEM192', 'KCNK15', 'HPDL', 'PCYT2', 'ARPC4', 'CDPF1', 'AP000356.5', 'MRM2', 'HSF4', 'ANKRD27', 'FTL', 'SMPD4BP', 'KDSR', 'RGS14', 'AKAP7', 'LENG8', 'AP000892.1', 'RUVBL1', 'PPP6R2', 'AC110275.1', 'IRS1', 'EPB41', 'LINC00508', 'NDUFA8', 'TPST2', 'PYGO1', 'LTBP2', 'SFMBT2', 'AC009070.1', 'FABP5', 'TOMM40L', 'C14orf28', 'IL6R-AS1', 'KIAA1671-AS1', 'TEX30', 'RRNAD1', 'CCDC117', 'ZCCHC24', 'SAMD8', 'CLCN7', 'TFPI', 'DLG4', 'C1R', 'AP005717.1', 'BRPF3', 'TLCD2', 'NOS1AP', 'SCO2', 'KRBA1', 'CATIP-AS2', 'GALNT12', 'AP001054.1', 'ARHGEF17', 'FGF18', 'AC005288.1', 'SMAGP', 'UBE2C', 'LMBR1L', 'ITGA6-AS1', 'PIP5K1A', 'DPY19L1P1', 'GAS6-AS1', 'STX3', 'POLN', 'TGFBRAP1', 'C3', 'PLPP1', 'AL596087.2', 'CRYM-AS1', 'LY6E', 'ATF5', 'SEC61A1', 'AF241726.1', 'RPS19BP1', 'PCCB', 'AGAP6', 'KCNK1', 'ZNF324B', 'SESTD1', 'CSRP1', 'AL355987.3', 'LPCAT4', 'PTBP1', 'ERLIN1', 'ATAD3B', 'LRRC56', 'SGSM3', 'TMEM94', 'CU639417.5', 'AL359710.1', 'ZBTB14', 'NSUN5', 'AL158212.2', 'MRGBP', 'HACE1', 'PBX1', 'RNF135', 'ZBTB45P2', 'AC068580.3', 'AC013356.2', 'IFNLR1', 'E2F3', 'SPRN', 'SLC22A18', 'APEH', 'EFHC1', 'MELTF-AS1', 'AC068338.2', 'CTBP1-AS', 'AP002748.4', 'ADAMTS5', 'UBAP1L', 'AC011446.3', 'ABCF2-H2BE1', 'TMEM9', 'CDC42BPA', 'ZNF496', 'PIK3R2', 'OTUD7A', 'PPM1F-AS1', 'AC068946.2', 'CDK2AP2', 'STXBP1', 'C11orf96', 'SLC26A11', 'KLHL21', 'ZNF318', 'ARHGAP39', 'FBXW5', 'AC131944.1', 'MORF4L1', 'CWC25', 'EBNA1BP2', 'LHX4', 'YRDC', 'PRANCR', 'PHYHIP', 'SCAF11', 'AC139887.2', 'AC010422.7', 'CTB-59C6.3', 'AC092143.1', 'AC105020.4', 'IFITM3', 'HIVEP2', 'LINC02761', 'AL929554.1', 'CHKB-CPT1B', 'MAP3K8', 'CCDC92B', 'DTX4', 'AL121753.2', 'KLHDC9', 'RPS14', 'AC006538.2', 'AC107464.1', 'AC092755.2', 'MIR4500HG', 'FAM3C2P', 'KLRG2', 'TCF12', 'GORASP2', 'TTL', 'CNOT3', 'AC110813.1', 'PRPF40A', 'ZNF652', 'STRIP1', 'AC068790.8', 'HJURP', 'CCDC61', 'CHST14', 'CHD2', 'R3HDM2', 'CORO6', 'DNAJB9', 'AC004812.2', 'TBC1D17', 'AC138430.1', 'FAM234B', 'AC108002.1', 'USP5', 'TMEM213', 'ZNF688', 'AC004528.2', 'PRR14', 'ADRB1', 'SNX33', 'LINC01234', 'DHCR7', 'LINC01865', 'RAVER2', 'AL031315.1', 'SLC9A3R2', 'TRIM45', 'BLMH', 'NARF', 'PIGL', 'SEMA4C', 'CARHSP1', 'SATB1', 'DECR1', 'SPRY2', 'STRA6LP', 'AP003306.2', 'HOTAIRM1', 'YBX1P10', 'KCTD21', 'CALML4', 'RNF169', 'TJP3', 'WLS', 'RHOBTB1', 'NR3C1', 'MAPKAPK3', 'AC006486.3', 'KIAA1549', 'AC135050.1', 'ZC3H12D', 'RTKN', 'P4HTM', 'SCRN2', 'KCNJ12', 'AC011476.3', 'IL17RC', 'RHOQ-AS1', 'AL162311.3', 'FZD4', 'SNRPB', 'KCNIP3', 'AL109824.1', 'PARD3B', 'SLC50A1', 'EIF4EBP2', 'ADGRG1', 'COL9A2', 'ZNF697', 'AC132938.3', 'MIR4489', 'PRR7-AS1', 'EML2-AS1', 'OBSCN-AS1', 'PRDM6', 'DGKQ', 'PRDM10', 'NDUFB2', 'AC136469.2', 'CYP20A1', 'TLX3', 'AC011448.1', 'C22orf34', 'PCYOX1L', 'SH3BP4', 'GATA6', 'NTNG2', 'ANKRD52', 'PDZD4', 'SP5', 'AKNA', 'RRP36', 'AL118506.1', 'ADAM11', 'TESMIN', 'AL451136.1', 'TRIB1', 'FSCN2', 'MGAT2', 'ZNF835', 'DCPS', 'MIR658', 'COQ8A', 'GNB1L', 'AL356512.1', 'ADRM1', 'MIOS', 'IDI1', 'VEGFC', 'NDUFAF3', 'CFAP410', 'BHLHA15', 'ZNF710-AS1', 'PHLDB2', 'STX17-AS1', 'SNX29', 'AC005943.2', 'YEATS2', 'CYP11A1', 'UCN', 'EVPLL', 'LINC01003', 'MCF2L', 'TP53BP2', 'NUBP2', 'NRP1', 'PWWP3A', 'YIPF2', 'RPUSD2', 'HOXD9', 'FOXCUT', 'CHPF', 'INO80D', 'TRAF7', 'PDF', 'PLPP3', 'MLXIPL', 'MEIS3', 'RIF1', 'FP565260.2', 'TP53I13', 'EIF6', 'AL049795.1', 'ZNF641', 'NKX3-2', 'AC004706.3', 'LINC00847', 'HS6ST1P1', 'MFAP3L', 'ZDHHC11', 'LINC00893', 'WIPF2', 'MAPK10', 'LINC00894', 'GIPC3', 'AC010331.1', 'SH3YL1', 'NBR1', 'MIR564', 'ARHGAP44', 'CSPG4', 'SLC25A21-AS1', 'FEM1A', 'TRAF3', 'RBPMS', 'SMAD2', 'DARS-AS1', 'PRPF8', 'DCBLD2', 'ZNF384', 'BCAR1', 'CHTF8', 'MCM5', 'AC020922.1', 'GFOD2', 'LRRC26', 'AC068587.4', 'SLC27A5', 'AL592429.2', 'SNAP29', 'COMTD1', 'PHLPP1', 'PARVB', 'FOXD3-AS1', 'DENND3', 'COL8A1', 'SIRT6', 'AC108449.3', 'GLCCI1', 'AC131160.1', 'MTDH', 'LRP1', 'AC009139.2', 'SVEP1', 'USB1', 'YDJC', 'HOXC-AS2', 'AP000347.1', 'TBL2', 'CASC3', 'MAP1LC3B', 'AC034102.6', 'ATP6V0E2', 'AC002116.1', 'PARP8', 'CENPN', 'AC004890.2', 'ADK', 'ACADS', 'SPECC1P1', 'WNT11', 'CDK17', 'SLC6A9', 'EZR-AS1', 'AC007192.1', 'LINC01060', 'GOLGA2P6', 'OR10AC1', 'AC009779.3', 'MAPK9', 'MAN1B1-DT', 'YWHAB', 'SERPINB1', 'VIM', 'AL031005.1', 'LUZP1', 'NCAPH2', 'AP000317.2', 'ALS2CL', 'ADGRD1', 'CHST15', 'MUC5B', 'AL133485.2', 'RNPS1', 'MADCAM1', 'ARHGEF19', 'HCFC1R1', 'PDLIM1', 'KCNQ4', 'AC084018.2', 'FAM110A', 'AP000812.4', 'CNTNAP3', 'PSMF1', 'RYK', 'C1orf21', 'SMAD1', 'AC015712.2', 'RNF19B', 'CTNNBIP1', 'OSBPL1A', 'KDELR1', 'REXO2', 'ZBTB48', 'RTEL1', 'IMPDH1', 'ANTKMT', 'CERNA1', 'AGTRAP', 'KIF27', 'IFFO2', 'HNRNPA3P6', 'LTBR', 'WNT5A-AS1', 'THOC6', 'CTSL', 'PERM1', 'ZFYVE27', 'FOXA1', 'SS18L2', 'SRP68', 'GOSR2', 'ROGDI', 'EXOSC3', 'AC013394.1', 'WWC2-AS2', 'KMT2A', 'LYRM1', 'LRP5L', 'NAT9', 'AC021491.2', 'PLEKHG4B', 'HIPK2', 'POLR2J4', 'PALLD', 'PRPSAP1', 'GPR137', 'ZDHHC5', 'FLNB', 'SETD3', 'AC025287.2', 'PPP1R16A', 'TST', 'GLG1', 'DBP', 'IDNK', 'NEURL1', 'SLC29A4', 'PYCR2', 'LINC02669', 'PGPEP1', 'URGCP-MRPS24', 'C2CD3', 'ST20-MTHFS', 'AL136084.2', 'H2AW', 'LDLR', 'GPN2', 'MMP9', 'NCCRP1', 'ZKSCAN2-DT', 'ZFP64', 'RNPEPL1', 'KHDRBS3', 'AC007161.3', 'HEIH', 'KCTD11', 'SLC12A6', 'RPL10', 'BRMS1L', 'SOWAHD', 'MMP25-AS1', 'TAB1', 'SEPTIN1', 'CCSAP', 'CHRND', 'CD37', 'RASSF1', 'ZXDB', 'NEIL1', 'EIPR1', 'AL670729.1', 'SLC41A3', 'SLC2A13', 'SLC30A4', 'AC015871.8', 'ADAMTS13', 'SETD4', 'ATG2A', 'HAP1', 'VCL', 'METTL26', 'ZDHHC7', 'AP000688.1', 'WHAMM', 'TPO', 'FMC1-LUC7L2', 'STRAP', 'AC009533.1', 'CUL7', 'LINC00963', 'TRIP13', 'QSER1', 'DUSP12', 'AC113189.2', 'EPM2A', 'MIDN', 'AC006277.1', 'ABHD12', 'MCM3AP-AS1', 'EFEMP2', 'MVB12B', 'CEP350', 'AMIGO1', 'DYNC1LI1', 'RC3H2', 'NUSAP1', 'AC022413.1', 'HDGFL1', 'CTDSP1', 'PPARD', 'THRA', 'ISG20L2', 'DUSP9', 'MGAT1', 'LYPD3', 'EDC4', 'CCN5', 'SRC', 'RAB11FIP1', 'MAD2L2', 'LRIG2-DT', 'HSD17B10', 'TRRAP', 'GFI1', 'SPHK2', 'MYH14', 'DNER', 'ZFHX3', 'AC105219.3', 'ZNF853', 'ZBTB5', 'AL353997.2', 'AL442125.2', 'BMPR2', 'ALDH1A3', 'AC010542.3', 'TSC22D4', 'VAMP3', 'IL17D', 'ARTN', 'AC005332.5', 'AL161733.1', 'C11orf24', 'ANKRD18A', 'FAM193A', 'SIRT3', 'HIGD1A', 'SLC25A41', 'GLIS1', 'CBS', 'BTG3-AS1', 'VAX2', 'SS18L1', 'AC004233.4', 'SELENOH', 'GORASP1', 'AL031846.2', 'PYM1', 'MIR4785', 'FDX2', 'PLOD3', 'REV3L', 'SEZ6L2', 'CCDC80', 'SH3PXD2B', 'CITED2', 'GSDMD', 'TRADD', 'AC090152.1', 'AC016065.1', 'P2RY6', 'NRXN1', 'BCAM', 'PTPN18', 'AC026691.1', 'TWF1', 'KCNQ1-AS1', 'AC022167.2', 'OGDHL', 'TMEM170B', 'KCNK5', 'SNX32', 'ATRN', 'FOXJ3', 'ABLIM2', 'EGFR', 'KLC3', 'AP001266.1', 'IGHG1', 'ABCB10', 'MON1A', 'SRD5A1', 'NSMCE4A', 'BUD23', 'KIF15', 'R3HDM4', 'UBE2R2-AS1', 'MICOS10-NBL1', 'ZNF629', 'PLXNB1', 'RNF24', 'SPRYD3', 'SH2B1', 'CELSR3', 'SF3B2', 'DIRAS1', 'LSR', 'KEAP1', 'SAP130', 'USP27X', 'MBOAT2', 'MYBPC2', 'AGAP2-AS1', 'LAMC3', 'SATB2-AS1', 'LINC02323', 'RAB31', 'MAPK15', 'CMBL', 'AL596087.1', 'TCF20', 'ABCB8', 'GLUD1', 'SQLE', 'ELFN1', 'PDE3B', 'ERN1', 'EPC2', 'AL022328.2', 'LINC02361', 'RBPJ', 'TRIM17', 'ZNF324', 'RP11-61J19.4', 'HINT2', 'HPCAL1', 'DROSHA', 'IGSF8', 'GPRC5C', 'DEDD2', 'MAST2', 'SLC7A5P1', 'ESYT3', 'UBE2J2', 'ENTPD8', 'CRYM', 'PDZD8', 'CR382285.1', 'FAM47E-STBD1', 'MAILR', 'LRRK1', 'CCDC97', 'RBFA', 'STARD6', 'LITAF', 'AC025287.1', 'SEMA3F-AS1', 'AC135782.1', 'RAB29', 'MAGI2', 'TMC5', 'AL161941.1', 'KLHDC10', 'GLTPD2', 'ADGRD2', 'DEDD', 'CCDC189', 'APBB1', 'NAV2', 'C19orf47', 'OTULIN', 'PLCB1', 'LRRC4B', 'AC011444.3', 'KAZALD1', 'WFDC1', 'BCL11A', 'LUC7L2', 'PDCD4', 'SLC1A7', 'EML3', 'AP003721.1', 'SRCIN1', 'AC097634.3', 'PAX6', 'PRKCZ', 'MOSMO', 'ABCC4', 'AL031681.2', 'KLHL22', 'FAXDC2', 'AP001107.6', 'DNMT3L-AS1', 'ZIC5', 'PLXND1', 'CAPN2', 'ROR1', 'MAN2B1', 'CANT1', 'RALGAPA1', 'SOCS3', 'TOLLIP', 'SENP8', 'ADIRF', 'PNMT', 'NAP1L5', 'EXOC6B', 'SUZ12P1', 'CDK12', 'DOK4', 'FAM21FP', 'AC017083.3', 'AGAP3', 'DYNLL2', 'AC027601.2', 'NPTX1', 'ZNF385A', 'LRRC61', 'SIN3B', 'CCDC22', 'FAM229A', 'FOXP1', 'KLHL35', 'DIP2C', 'HEYL', 'AC093525.1', 'YKT6', 'DENND1B', 'PRKAA2', 'ADAMTSL4-AS2', 'VPS37D', 'MLYCD', 'ZNF362', 'CUL9', 'HAPLN4', 'CPLANE2', 'ZNF707', 'AC003688.1', 'LRWD1', 'PCBD2', 'NIPAL1', 'EPS15', 'MICALL2', 'FAM21EP', 'CEP78', 'STK11IP', 'TFE3', 'NCAPD3', 'NPR1', 'ZRANB1', 'RBM15', 'FENDRR', 'NOTCH3', 'IMP3', 'LRRC8E', 'DARS1', 'ZBTB42', 'AL136376.1', 'WASL', 'GNPTG', 'SLC5A2', 'DNAJB6', 'C19orf44', 'MYO9A', 'AC006059.2', 'PHETA1', 'P2RY2', 'HRAT92', 'PDE7A', 'DDN', 'EPB41L1', 'PRR5-ARHGAP8', 'CEP72', 'MIR1282', 'LTO1', 'SNN', 'OAZ1', 'ZNF687', 'SP4', 'CCDC180', 'TNFRSF18', 'AC087721.2', 'ASH1L-AS1', 'LAMB3', 'ASH2L', 'PER1', 'KM-PA-2', 'KCNK15-AS1', 'SH2D5', 'PLEKHG4', 'MSLN', 'FAM111A', 'CDC16', 'AC107871.1', 'RNF8', 'FBXL19-AS1', 'PDIA5', 'PAQR6', 'DMXL1', 'SEMA6B', 'HDHD5', 'TNS1', 'LPCAT1', 'AC004987.1', 'PAPLN', 'AC115284.1', 'AC010335.1', 'SETD5', 'WNT7B', 'MALINC1', 'TANC1', 'ZNF660', 'HOXA10-AS', 'FHOD1', 'GPR37', 'USP12', 'C1orf216', 'MYO1F', 'CLDN7', 'MIS18A', 'PGGHG', 'AL121753.1', 'DMBX1', 'GYG2', 'BIRC7', 'EPB41L4B', 'PCID2', 'SPTBN1', 'ZNF581', 'SSTR5', 'PKD1P5', 'JADE3', 'DNASE2', 'FEM1AP2', 'PPP2R1B', 'CHMP7', 'GUSBP11', 'AL031590.1', 'ERGIC1', 'CA9', 'PPP1R14BP3', 'MATK', 'USF3', 'SLC35D2', 'LPAR2', 'AMBRA1', 'ZNF48', 'NAGPA-AS1', 'CABIN1', 'PEDS1-UBE2V1', 'AL590233.1', 'HAGH', 'IQSEC1', 'UCK1', 'AC008610.1', 'TAF1C', 'RNF10', 'MGMT', 'C9orf163', 'NEUROG2', 'GAS6', 'XRCC3', 'THA1P', 'AC027601.3', 'AC021087.5', 'STX5', 'WDR6', 'WDR86-AS1', 'ILVBL', 'ZBTB32', 'ZNF503-AS2', 'SOCS7', 'PYGO2', 'AC006077.2', 'PHC2-AS1', 'RASGEF1A', 'ATP1A1', 'ATG4B', 'PA2G4', 'AL139353.1', 'AC006487.2', 'FABP5P3', 'NARS2', 'FAM102A', 'UBE2R2', 'TAPBPL', 'MED16', 'AP003071.5', 'NANS', 'SLC16A1', 'ARRB1', 'DENND6A', 'HSD3B7', 'LIN9', 'VPS26C', 'FCHSD1', 'FUBP3', 'ACTR3B', 'C19orf12', 'MTARC1', 'AC018512.1', 'CNNM1', 'AL136172.1', 'AC016876.2', 'TMEM164', 'TNFRSF1A', 'AC004832.1', 'DLG3', 'SCAP', 'IRAIN', 'PRTG', 'CHURC1-FNTB', 'AC007362.1', 'PWP2', 'BZW1-AS1', 'BCL9L', 'AC011498.3', 'AL590627.2', 'GRID1', 'AC073957.1', 'AC073111.2', 'PBX3', 'ARFRP1', 'RNF11', 'OGG1', 'PYCR3', 'AC104667.2', 'MBD1', 'AP001453.2', 'CREB1', 'MRPL38', 'LRRC41', 'AL732509.1', 'SH3RF3-AS1', 'TMPO', 'AC104958.2', 'TWF2', 'SLC12A5', 'SLC49A4', 'AC145285.6', 'ADSS1', 'PPIB', 'AATK', 'NR1H3', 'GHDC', 'SYNE3', 'FOSB', 'WAC-AS1', 'INTS11', 'PFDN4', 'KMT5C', 'AC004943.1', 'AC090559.1', 'SNX21', 'ANKRD63', 'ST20-AS1', 'MICOS10', 'AP000553.1', 'DNAJC17', 'AP001160.3', 'FN3K', 'UBE4B', 'PCNX3', 'TSPAN4', 'CDKN1B', 'NOTUM', 'OAF', 'OSBP2', 'AC009511.2', 'SIX4', 'SWAP70', 'RP1L1', 'EPHX1', 'AP1AR', 'EMID1', 'ACOT7', 'AC007326.4', 'EMILIN1', 'HIP1', 'AC002310.5', 'RTL10', 'ARF1', 'GCHFR', 'XPC-AS1', 'NDRG4', 'EME2', 'GZF1', 'AP001972.2', 'DCAF16', 'SLC25A21', 'HLA-C', 'BRWD1-IT2', 'ATXN2', 'NR2E3', 'ARAP3', 'AC009779.2', 'TELO2', 'LATS2', 'CAMK2N1', 'ZFPL1', 'LINC02043', 'PDGFB', 'TRAF3IP2-AS1', 'ZYX', 'HOXD13', 'TGIF2', 'AC022211.4', 'TMEM141', 'AP001363.2', 'SGSH', 'H3-3A', 'TP53I3', 'MAP6D1', 'DYNC2I2', 'SGMS1', 'REPIN1-AS1', 'TBL1XR1', 'AL355987.1', 'CASKIN2', 'AC011498.6', 'CAPRIN2', 'DOCK6', 'TNS3', 'CERT1', 'UGGT2', 'GCGR', 'TRAFD1', 'AC093899.2', 'SHMT1', 'PCDH1', 'AC004943.2', 'RASSF1-AS1', 'RNF166', 'KRTAP5-AS1', 'NRCAM', 'TEDC2', 'CUL1', 'MIER3', 'AL354928.1', 'AL713868.1', 'IQGAP2', 'BX255925.1', 'MAP3K4', 'KLHL2', 'AL355102.2', 'RP11-463P17.1', 'ZNF580', 'UVSSA', 'ING5', 'LINC00205', 'SCLY', 'PKD1', 'ASB6', 'AC138028.2', 'MOV10', 'TMEM161A', 'COL5A3', 'JMJD1C', 'P3H1', 'TBC1D1', 'FAM110C', 'AC109460.2', 'ARNT', 'SRRM3', 'HMGXB3', 'BAMBI', 'ASB1', 'USP24', 'ITPK1', 'ZBTB2', 'GAS2L1', 'LINC-PINT', 'PREB', 'INO80E', 'CBFA2T2', 'EML6', 'AC113189.1', 'KLHDC7A', 'LRRC73', 'NR4A2', 'MAPK11', 'AP000487.1', 'AC107959.5', 'UVRAG', 'AKAP12', 'ADIPOR1', 'AC008738.5', 'NKRF', 'PCNX2', 'AP001267.5', 'BLOC1S1', 'NR2F1-AS1', 'ZBED6CL', 'ANKRD13D', 'OXCT2', 'AL135925.1', 'KCNN4', 'CAST', 'TAF6', 'MTPAP', 'AC000120.3', 'AC092053.3', 'ZNF337', 'C8orf44-SGK3', 'SAMD11', 'DVL2', 'AL031708.1', 'HYI-AS1', 'IPO9-AS1', 'ITM2B', 'TUB', 'RECQL5', 'ITGB1', 'AC004080.3', 'AC036108.2', 'HOXB13', 'ARHGEF5', 'AC018552.3', 'RPL39L', 'CRKL', 'MIR3615', 'FOSL1', 'RTL6', 'BUB1B', 'ADAM8', 'FBXO34', 'AC007785.1', 'FAH', 'BAD', 'PRPF19', 'SMPD2', 'EPDR1', 'SGK3', 'HDLBP', 'TEN1', 'AC011498.4', 'TNFRSF10C', 'CNPY4', 'TIPRL', 'TNFSF13', 'ALOX12B', 'FZD10-AS1', 'LRRC14', 'RNH1', 'MAP11', 'JOSD2', 'CD63', 'SLC2A4RG', 'GNL3', 'PLAU', 'RBPMS2', 'SLC35A5', 'USP21', 'FBXL15', 'SIMC1', 'LDLRAD2', 'AC004080.2', 'FUT11', 'FBXO31', 'RP4-535B20.1', 'TBX2', 'USP25', 'ZNF276', 'RBCK1', 'AL353708.3', 'TGM2', 'LINC00689', 'ZNF664', 'ELF2', 'LINC02245', 'SYCE1L', 'MAPK8IP2', 'CDON', 'SLC27A3', 'HOTAIR', 'MKLN1', 'RPLP2', 'DALRD3', 'AC007780.1', 'SNF8', 'MIR4492', 'PTP4A3', 'ST20', 'ADORA2A', 'MED15', 'AC009902.2', 'ZC3H10', 'TAF1', 'PIGQ', 'LINC02689', 'AL031721.1', 'MAOB', 'RNASEH2C', 'BICDL1', 'AC135048.4', 'AL139099.1', 'PDCD4-AS1', 'HERC2', 'RPARP-AS1', 'ELOA', 'AL138724.1', 'CDK14', 'MMP15', 'PRSS27', 'LINC01011', 'CHST12', 'AC004771.3', 'MBLAC1', 'DNAH11', 'AC068587.7', 'FNDC3B', 'LINC00322', 'SPATA21', 'APAF1', 'ZXDC', 'TM7SF2', 'DAZAP2', 'VCP', 'WDR1', 'MLXIP', 'MCEE', 'AL356020.1', 'SLX1A', 'AL121845.2', 'USP49', 'NGEF', 'GPATCH3', 'SERPINH1', 'EPS15L1', 'FAM160B1', 'TC2N', 'TRMT1', 'AL133380.1', 'TMEM105', 'FANCC', 'AC092849.2', 'ODF3B', 'CACNA1H', 'ZCWPW1', 'AC188616.1', 'AC011450.1', 'MANSC4', 'IGSF3', 'SURF1', 'ECHDC2', 'PLPP2', 'COMT', 'AC093865.1', 'SLC9A3-AS1', 'ANKRD23', 'LRFN1', 'DNAAF3', 'AC008764.4', 'MCRIP1', 'COL15A1', 'DLG3-AS1', 'MAP1S', 'CACNA1I', 'TWIST2', 'TMEM200B', 'AL162231.4', 'PGAP1', 'AL357033.1', 'CCDC114', 'HGSNAT', 'AL590560.3', 'PTDSS2', 'FOXN4', 'OPA3', 'REPS2', 'AC102953.2', 'ZKSCAN7-AS1', 'PDLIM7', 'DCAF8', 'AL020996.2', 'BORCS8-MEF2B', 'EXD3', 'CSK', 'CCDC47', 'AL023882.1', 'KLC4', 'ZNF764', 'TCHP', 'PDRG1', 'MESD', 'TMPRSS6', 'MIF-AS1', 'CROCCP3', 'ATP1B1', 'SYNPO', 'E4F1', 'NOL12', 'MYO7A', 'SERHL', 'BTG3', 'ASAP3', 'NFIA', 'TMEM80', 'AC244197.3', 'ARL4D', 'RALB', 'STARD8', 'AL031123.2', 'FP565260.4', 'UGDH', 'AC009065.4', 'PDE4A', 'MAP3K21', 'CXXC5', 'ACOT11', 'PILRB', 'NR2F1', 'METRN', 'AC027682.4', 'SEPTIN5', 'MRC2', 'TCIRG1', 'CTSD', 'PLEKHA6', 'KLF15', 'AC004987.2', 'LRIG1', 'SEPTIN9', 'LONRF3', 'MEIS2', 'AP1B1', 'ZIM2-AS1', 'SH3BP5-AS1', 'COTL1', 'ARRB2', 'ARHGEF4', 'AL136982.7', 'B4GAT1', 'PARD6B', 'LINC01315', 'NENF', 'ZNF782', 'BAP1', 'CPLANE1', 'AL357075.4', 'SMG7-AS1', 'DAB1', 'DMXL2', 'FAM222A', 'LINC02236', 'H2AZ2P1', 'ALOX12-AS1', 'KNDC1', 'C1QL4', 'AC129492.1', 'AL365181.2', 'C19orf25', 'MFSD14C', 'BOK', 'C20orf27', 'RGS9BP', 'SMARCA2', 'NREP', 'MAN1A2', 'B3GAT3', 'SYT15', 'AC004922.1', 'DCLK2', 'IL4I1', 'TERF1', 'UNC119', 'ATP6V1E2', 'ZC3H7A', 'DNAJC6', 'CZIB', 'LINC00888', 'TMEM243', 'NME4', 'VPS72', 'RC3H1', 'SPATA2L', 'AC023509.1', 'FDXR', 'ZSCAN25', 'NUDT22', 'SHISA4', 'BACH2', 'HNRNPCP2', 'CCDC120', 'ZBTB18', 'MYO5A', 'ABHD8', 'GIT2', 'ENDOV', 'KDM6B', 'AL133523.1', 'LRRC8D', 'KPTN', 'SRPRA', 'CBX7', 'AC037459.3', 'PGAP2', 'TOM1', 'C9orf43', 'KLF2', 'ST3GAL1', 'RNF212', 'MFSD11', 'PDIA4', 'MARF1', 'BACE1', 'AC100793.3', 'ZNF611', 'MRPL23-AS1', 'HOXD-AS2', 'HOXA9', 'UBE2N', 'ARRDC2', 'ARMC5', 'PDIA6', 'FNTA', 'SLC25A29', 'NKD2', 'FPGS', 'WDR27', 'SORBS3', 'HK2', 'CTSF', 'AL136162.1', 'YBX1P1', 'KANSL1', 'STAG3', 'RSPH14', 'TBXA2R', 'KLF5', 'NUBP1', 'AC117509.1', 'HSPB7', 'AC098484.3', 'MUC1', 'MKNK1', 'TXNRD3', 'ZFYVE19', 'SH3TC1', 'FGF11', 'GNE', 'ADCY6-DT', 'ARHGAP10', 'RBMS1P1', 'AC011511.1', 'AP001107.9', 'UBR5', 'POLE', 'AHCYL2', 'RPS2P55', 'NQO2', 'ABHD16B', 'AC020909.1', 'NOXA1', 'UAP1L1', 'AL365205.1', 'PEX10', 'KLF3-AS1', 'MAP3K12', 'SATB2', 'KATNIP', 'ASL', 'ZNF554', 'AL132996.1', 'AL121895.1', 'DSG2', 'ARAP2', 'ABCF2', 'CYC1', 'GULP1', 'ZDHHC23', 'MIR3187', 'DDX11L10', 'ZNF354B', 'CCDC40', 'DEPTOR', 'ZDHHC16', 'AP001931.1', 'FJX1', 'CBFA2T3', 'CDYL2', 'TIPIN', 'PLEKHM1P1', 'AC106886.4', 'TFAP4', 'TRPM4', 'ABCG1', 'CASP9', 'EIF3H', 'FBXW4P1', 'DGCR2', 'NOMO2', 'FBLIM1', 'ZMYM3', 'BRAT1', 'AL590617.2', 'TMEM121', 'ZFP41', 'AC099329.1', 'PIPOX', 'LPP-AS2', 'HAUS5', 'U2AF1L5', 'ZNF319', 'PGAP3', 'MXRA8', 'EDIL3', 'ZNF41', 'MRPL9', 'FGFBP3', 'EP300-AS1', 'AC007563.2', 'HDAC6', 'AC106786.1', 'ABCA3', 'AC010894.2', 'HIC1', 'PPFIA3', 'ZNF767P', 'POP7', 'AC051619.5', 'RALGDS', 'NEBL-AS1', 'SNRNP25', 'BORCS8', 'SLC35C1', 'CHIC1', 'HOXC4', 'SLC9A6', 'SPESP1', 'ORMDL1', 'NT5M', 'AC093535.1', 'MFSD3', 'TEAD2', 'AC046143.1', 'CCDC127', 'C10orf95', 'RPAP1', 'AC008760.1', 'PRICKLE3', 'MCCC1', 'AL512353.2', 'TJAP1', 'AP5B1', 'AL158151.1', 'BAHD1', 'SH2B2', 'VAPA', 'TEX264', 'AC010973.3', 'CD82', 'AC105450.1', 'KLF9', 'IGFL1P1', 'TIMM13', 'CD68', 'SMDT1', 'NOC4L', 'RTN4RL2', 'FP565260.1', 'MBD6', 'PCSK6', 'RNF182', 'FIBCD1', 'RADIL', 'ACVR2B', 'GGA1', 'LMF1', 'CRELD1', 'AC022400.5', 'AGPAT2', 'AC090360.1', 'AC087289.3', 'TMC6', 'NKIRAS2', 'CARD19', 'NADK', 'PPP1R15A', 'C7orf26', 'PSMD14', 'ISG20', 'TUBA1C', 'RPTOR', 'PROB1', 'SYT7', 'KLHL36', 'TEX19', 'ERVK13-1', 'HSD17B1', 'AC010336.5', 'SLC35E1', 'TBL1X', 'NATD1', 'GBX2', 'AC145207.2', 'ZNF696', 'DGLUCY', 'AC106820.5', 'UQCC1', 'TYMSOS', 'EDIL3-DT', 'CAMTA1-DT', 'FGFR3', 'RIPOR1', 'TKFC', 'PRSS16', 'RAD51D', 'GLCCI1-DT', 'AL158068.2', 'TMEM223', 'AL353588.1', 'NXPH4', 'GJC2', 'AC129492.6', 'RNF126', 'SAMD4A', 'GSN', 'DCAF15', 'PLXNB2', 'AL136419.1', 'CAP2', 'AL022323.1', 'ZNF668', 'BNIP2', 'RUNX3', 'EIF4A1', 'VASH1', 'FAM83G', 'RFLNA', 'TRIM29', 'MTMR1', 'LSM11', 'AC129102.1', 'MOCOS', 'FAXC', 'AC022211.2', 'AC012615.4', 'YIF1A', 'COPS9', 'LMF2', 'PRKAG2', 'LINC00957', 'AC006435.2', 'FBXO44', 'AC107959.1', 'BEND3', 'PTK7', 'C8orf58', 'DYNLL1', 'AC074117.1', 'PDXDC1', 'OGFRP1', 'TMEM99', 'RITA1', 'SERPINB6', 'PPP1R12B', 'ZNF467', 'FEM1B', 'S100A10', 'AC009505.1', 'SOCS5', 'CNGB1', 'PTPN14', 'AC136475.1', 'ALPI', 'COLGALT1', 'AL157400.5', 'TAPT1', 'NEURL4', 'TPD52L2', 'KIF13B', 'AL159163.1', 'TARS3', 'NAGPA', 'ASAP2', 'MB', 'SHANK3', 'TBCEL-TECTA', 'PICALM', 'FGD1', 'GPC2', 'GPD2', 'PLEKHA5', 'NDST2', 'OLFM2', 'ATOH8', 'PSD', 'GLS', 'AC009065.3', 'ADAM15', 'DCTPP1', 'TASOR', 'MELTF', 'ATP2A3', 'UBR2', 'AARS2', 'DNAJC5', 'GATAD2B', 'VIPR2', 'KNOP1', 'TMED9', 'PITPNC1', 'AC092119.3', 'AP003108.2', 'FZD8', 'CDK8', 'IPO9', 'AL158212.5', 'SMARCB1', 'LIF', 'AAMP', 'DHX33', 'SNIP1', 'ABCF3', 'TTC39C', 'AC004477.1', 'MID2', 'ZNF784', 'EPS15-AS1', 'UBE2D3', 'SPAG7', 'PRSS12', 'AGPAT3', 'HOXC9', 'QSOX1', 'AL133410.3', 'ACAP1', 'AL357033.4', 'ARID2', 'DGCR6L', 'ANKMY1', 'HNRNPDL', 'ZNF646', 'ANGPTL5', 'AL645608.5', 'TSHZ2', 'LINC01356', 'H2AX', 'NAXD', 'SH3D21', 'TRIM3', 'MEGF9', 'DHRS11', 'H2AZ1', 'CLPX', 'GPR108', 'GNAO1', 'PEF1-AS1', 'PLCG2', 'AC105206.2', 'CRMP1', 'GMIP', 'PIP5K1B', 'PFAS', 'ADAMTS1', 'TAPT1-AS1', 'MIIP', 'AC021016.2', 'FLT4', 'OXLD1', 'OTUB1', 'P2RY11', 'ITFG2', 'FZD5', 'FAM43A', 'SWI5', 'YPEL5', 'PRSS23', 'THAP7', 'STAC3', 'LINC01721', 'UBR3', 'GPR68', 'ARRDC1-AS1', 'AC010173.1', 'AL158151.3', 'NCOA7', 'ALX3', 'AL020996.1', 'AC098595.1', 'PHF8', 'AC012433.2', 'ASPH', 'HYI', 'NLK', 'NMB', 'CEP126', 'AC027682.2', 'AP000350.4', 'RYR3', 'SENP3-EIF4A1', 'AC104123.1', 'AL021707.1', 'TXLNG', 'ENO2', 'POMZP3', 'EN2', 'FKRP', 'NUTM2B-AS1', 'AIRE', 'ATXN1-AS1', 'SNCA-AS1', 'CHRNA4', 'AC138150.2', 'LAMA3', 'PTPN11', 'AC020558.6', 'KIF21B', 'RGL3', 'LINC00174', 'AL590560.2', 'USP19', 'MAL2', 'LTBP1', 'PTPN21', 'CALM3', 'SFXN3', 'NDST1', 'MAGED2', 'AC005329.1', 'HS1BP3', 'KBTBD13', 'UFSP1', 'CAMTA2', 'TNRC6A', 'DDHD1', 'TPTEP2', 'ALMS1', 'OIP5', 'RAB27A', 'AL160006.1', 'CEACAM19', 'ZC3H7B', 'SETBP1', 'MSMP', 'ACP1', 'INTS6-AS1', 'DCUN1D4', 'ZNF826P', 'SYNJ2', 'ROCK1', 'FAIM', 'AL512598.2', 'IRAK3', 'U52111.1', 'CHDH', 'AC093512.2', 'COL1A1', 'IMP4', 'STAMBPL1', 'MEF2D', 'AC079385.1', 'BORCS6', 'ZNF469', 'ZNF786', 'TP53I11', 'PRDM1', 'WNT5A', 'AL096711.2', 'IRGQ', 'P4HA3', 'AC067930.4', 'AL121749.2', 'CDK18', 'AL591895.1', 'FBXO2', 'TDRD9', 'SEL1L3', 'OSGIN1', 'AC099811.2', 'TSPAN9', 'C1orf226', 'PHF20', 'NAXE', 'IGFL2-AS1', 'AC132872.1', 'GATA2', 'XKR5', 'HBP1', 'DYNC1H1', 'MIR1281', 'DHRS4', 'HMGXB4', 'AP002373.1', 'AC005358.1', 'RPA1', 'ZFP36L2', 'MGAT5', 'RPS6KA1', 'FADS1', 'ANKRD24', 'AP002761.3', 'ADCY7', 'MIR4747', 'TADA3', 'NCOA6', 'S100PBP', 'HMGCS1', 'AC126564.1', 'ADAM22', 'FAM102B', 'JAK2', 'SLC25A39', 'TTC13', 'PIGG', 'AK1', 'EYA4', 'SPOPL', 'OSTM1', 'GALNT9', 'OTUD3', 'RIPK1', 'RILP', 'AC015917.2', 'MIF4GD', 'NIN', 'MICALL1', 'ZNF703', 'KRIT1', 'PNPLA6', 'TYMS', 'SPIN2B', 'AC010336.1', 'STARD3', 'DIS3L2', 'ZFP36L1', 'PSRC1', 'SHROOM3', 'ST14', 'AL360182.2', 'AL035587.2', 'FAM200A', 'TEAD3', 'MTFP1', 'GRIN1', 'AC005540.1', 'OCIAD2', 'FHL2', 'PUM2', 'TRIM32', 'UBE2Q2', 'XBP1', 'HOXB3', 'ZSCAN29', 'CYBA', 'AC020934.2', 'AC116025.2', 'ESYT1', 'KANK1', 'LINC01521', 'RHPN1', 'IL6R', 'VPS13A', 'KIAA2026', 'AP001931.2', 'CR536603.1', 'TMEM151B', 'HEXD', 'HOMER1', 'AP003419.1', 'ALX4', 'PLCB2', 'SETBP1-DT', 'SEMA3F', 'PLCH2', 'PRKAR1B', 'ADPRHL1', 'SLC27A4', 'ENGASE', 'LRRC37A16P', 'KCNQ1', 'AC011468.2', 'PELI3', 'FTH1P23', 'DSTYK', 'AC078925.1', 'LONRF1', 'MCM7', 'SCARF2', 'PLD6', 'DHRS13', 'RNF215', 'TGFBR2', 'PAQR7', 'SEC11A', 'AC107959.4', 'NKAP', 'SESN2', 'EDEM3', 'SMTN', 'ARFGEF1', 'CNOT8', 'ZNF865', 'HOXC8', 'AL157871.1', 'FBXL12', 'AC080013.1', 'PDZD7', 'CCDC26', 'LINC02593', 'ABHD17AP6', 'PLD3', 'SLC39A10', 'KAT2A', 'GAA', 'PRXL2A', 'POMGNT1', 'SMG1', 'TET2', 'AC011452.1', 'HDAC11', 'AC091180.2', 'KIAA0753', 'KF456478.1', 'POLD4', 'AC073842.2', 'TRAPPC6A', 'AL442003.1', 'LNCTAM34A', 'AL118558.1', 'NSD3', 'GALNT6', 'FSD1L', 'C11orf49', 'TRIM14', 'AC027307.1', 'TMEM18', 'TBCB', 'BCORL1', 'CUL4A', 'MRTFA', 'ACTR3', 'AC008105.1', 'ODC1', 'AC004224.2', 'ALKBH6', 'PVRIG', 'CYP4F26P', 'PPM1H', 'AC243964.3', 'RBM6', 'ALOX12', 'ENO1-AS1', 'DNAAF5', 'EMC7', 'POLR2F', 'RNF146', 'THEM6', 'RASSF3', 'AL161729.1', 'AC037459.1', 'AL117348.2', 'WASF2', 'ACLY', 'PI4KA', 'SPATA33', 'PEDS1', 'AP000777.2', 'KCNK3', 'CHID1', 'AGGF1', 'AC011676.5', 'AP000879.1', 'AP4M1', 'SIPA1L3', 'MTG2', 'CBSL', 'BRSK1', 'SMKR1', 'DCTN1-AS1', 'NUDT16L1', 'AC004846.1', 'CMC2', 'TENM3-AS1', 'BX255925.4', 'TYK2', 'PNPLA2', 'STK11', 'ARRDC4', 'ZNF335', 'ZNF436', 'NFIL3', 'CFLAR', 'TBCD', 'NAA60', 'PPP1R26', 'ZNF445', 'AC061709.2', 'AC005005.3', 'STOX2', 'CAMK2D', 'AMZ2P1', 'MST1', 'ZSWIM5', 'SIAH2-AS1', 'MRPL28', 'PKD1P4', 'MRPS34', 'AC125807.2', 'LINC02846', 'TGFBR3L', 'TDP1', 'AC073896.2', 'PCF11', 'PCED1A', 'AC110285.2', 'KIF13A', 'BPHL', 'ZNF250', 'NPAS2', 'TICAM1', 'SNX15', 'AL691442.1', 'LRIG3', 'SLC39A14', 'AC022400.7', 'AP002387.1', 'THBS3', 'AC025181.2', 'AC126696.1', 'STIP1', 'NPR3', 'ECEL1', 'AC105285.1', 'LINC02714', 'THPO', 'ESS2', 'TALDO1', 'BSPRY', 'AC007731.4', 'AC017100.1', 'AL162417.1', 'DCTD', 'TIAM1', 'POM121C', 'POU6F1', 'AC023355.1', 'FANCE', 'PPP1R26-AS1', 'PRKCD', 'ANAPC2', 'SEMA7A', 'AC188617.2', 'TOP3B', 'SYNC', 'TENT5A', 'PCSK1', 'NTN3', 'GRK4', 'HOXA10', 'FBXL17', 'INTS10', 'ANKLE2', 'LINC02352', 'SLC46A1', 'TTC39C-AS1', 'AC025279.1', 'AL139246.5', 'AC006449.3', 'MMEL1', 'AL158801.2', 'HMGN2P46', 'RAB42', 'KIF1A', 'PVR', 'AL928654.3', 'MC1R', 'REXO4', 'TEF', 'CXCL16', 'AP006621.3', 'AL161772.1', 'SLC45A4', 'WASF1', 'TBC1D2', 'AC019068.1', 'RNF157', 'AZIN1', 'SLC29A1', 'AC009093.10', 'RARRES1', 'RER1', 'ITM2C', 'RBAK', 'CCDC96', 'MEF2B', 'CELF2', 'Z83844.1', 'KHK', 'AC015712.5', 'AC099778.1', 'ABCC1', 'NDUFV3', 'AC005332.4', 'SLC26A6', 'AC069113.2', 'ADM2', 'MAN1B1', 'PROSER2', 'CCNJL', 'AC007383.1', 'MESP2', 'FO681492.1', 'LMAN2', 'AC007563.1', 'EBPL', 'AC011511.4', 'WNT6', 'CABLES1', 'S100A6', 'ABCA2', 'SMIM11B', 'PIF1', 'NYAP1', 'DMAP1', 'LSS', 'LLfos-48D6.1', 'CCDC144NL-AS1', 'BAIAP2L2', 'PKD2', 'SPAG9', 'TMEM42', 'HECTD2', 'TEN1-CDK3', 'MTX1', 'PRAG1', 'AP003068.2', 'AC020659.2', 'ATG3', 'RAB24', 'LARP4B', 'NES', 'CCT3', 'ACVR1', 'AL592071.1', 'DDX41', 'RASA1', 'RPS2P32', 'COG8', 'LRRC1', 'KHDRBS1', 'TNS2', 'PCBP2', 'UNC5B', 'AC005775.1', 'AK3', 'SHF', 'DLK2', 'AC110285.4', 'LGALS3', 'SIGIRR', 'VEZF1', 'HTT', 'HYAL1', 'CD58', 'TMEM263', 'ANKRD46', 'TRIB3', 'MOB3A', 'H2AZ1-DT', 'AC004241.1', 'MED22', 'AC084018.1', 'ATG9A', 'LRRN2', 'SPRED3', 'SMURF2P1', 'DGKD', 'KIAA1958', 'HSD17B14', 'GRAMD1A', 'EP300', 'PLXNA2', 'MIS18A-AS1', 'LPIN1', 'SHISA2', 'MLKL', 'ZNF398', 'DNAJB12', 'PODNL1', 'STIM1-AS1', 'IPO13', 'OSBPL11', 'FBF1', 'SEC22C', 'SKIL', 'AL391628.1', 'AC005387.1', 'UNC13D', 'PKMYT1', 'AC018695.9', 'PRDM11', 'JADE2', 'SEMA4D', 'LIME1', 'ARRDC1', 'PKDCC', 'AL109615.3', 'PLPPR3', 'C21orf58', 'BRD1', 'CD151', 'PRICKLE4', 'FAM167A', 'AC008438.1', 'MPP5', 'XPO7', 'DENND2A', 'SPSB1', 'ALOXE3P1', 'AC011491.2', 'PSME2', 'AC098582.1', 'SMCR8', 'NEGR1', 'MPDU1', 'AL161651.1', 'SMPD3', 'BX539320.1', 'AC141424.1', 'PCGF3', 'SNRK-AS1', 'AP000251.1', 'SFXN5', 'PPP5D1', 'AC116351.2', 'FAM219A', 'FAM156A', 'AL139220.2', 'FAM76B', 'BTBD7', 'MINDY2', 'TDRD12', 'FAM98B', 'TSEN34', 'AC141930.1', 'DOCK5', 'MED29', 'ERCC6', 'AC097637.1', 'FCSK', 'AZU1', 'GOSR1', 'TK2', 'SCAMP5', 'COL4A4', 'AL449212.1', 'CT62', 'BANP', 'AC005696.1', 'AP001970.1', 'NLRX1', 'CYP2S1', 'AC007292.1', 'PEX6', 'AC078909.1', 'RIC8B', 'KCNC3', 'P2RX5-TAX1BP3', 'UBE2MP1', 'ZNF783', 'MIR1181', 'PRPS2', 'B4GALT6', 'JOSD1', 'SETD6', 'AL670729.3', 'FRS3', 'PMFBP1', 'NAGS', 'CDK5RAP3', 'TENM3', 'BCS1L', 'CHRD', 'CUEDC2', 'PIP4K2B', 'DCST2', 'SLCO4A1', 'AC106739.1', 'CLU', 'AC021594.2', 'AC036176.1', 'VDAC1', 'HDDC2', 'FGFR1', 'JPH2', 'SLC16A5', 'RTEL1-TNFRSF6B', 'AC138028.4', 'EPAS1', 'MRPL34', 'IBA57', 'LINC00955', 'ARHGAP26', 'AC018521.1', 'L34079.1', 'S1PR3', 'FAM118A', 'BDKRB2', 'AC008764.1', 'SLC29A2', 'PPP2R5C', 'Z84485.1', 'CASC15', 'CCDC177', 'DNPEP', 'ZC3H3', 'RHOU', 'AC099489.1', 'BTBD9', 'AC254562.2', 'PANK1', 'AC254562.3', 'AL354733.1', 'RNF38', 'TYMP', 'RNF112', 'UBE2V2', 'ZNF497', 'AL445524.2', 'NRAV', 'AC003956.1', 'AL118511.1', 'TEAD4', 'UVRAG-DT', 'FAM228B', 'APBA3', 'CADM4', 'LENG8-AS1', 'TMBIM7P', 'NCBP2L', 'ZNF616', 'AC072022.2', 'GKAP1', 'PLEKHF2', 'ABCC6', 'SEMA3G', 'CCNF', 'SLC19A1', 'LINC02878', 'MPRIPP1', 'AC118344.1', 'ATG16L2', 'BBS5', 'PCSK7', 'GPR160', 'ECPAS', 'GRK6', 'LDLRAD4', 'THAP4', 'ZNF286B', 'IL13RA1', 'NFIB', 'MTFR1L', 'KARS1', 'SERINC2', 'ZNF213', 'GNAS-AS1', 'BX890604.1', 'AP002893.1', 'HNRNPLL', 'ZNF644', 'WDR5', 'RAB23', 'MYL6B', 'GAB1', 'CREM', 'GPR176', 'NEURL1B', 'DHRS4L2', 'CNIH3', 'KDM7A-DT', 'LRRC75B', 'AC026336.3', 'GAREM2', 'PLEKHF1', 'GNG10', 'NUDT8', 'RAB15', 'AC087289.5', 'REEP2', 'CACNA1B', 'STAG3L5P-PVRIG2P-PILRB', 'TOR1AIP1', 'ABCG2', 'AC010422.8', 'G6PD', 'KIAA1671', 'LINC00634', 'FKBP11', 'HSPB1', 'KLHL30', 'LRRC75A', 'BHMG1', 'OSMR-AS1', 'WDR86', 'DDI2', 'CA5BP1', 'UBAC1', 'CIZ1', 'USP28', 'INTS3', 'LINC00235', 'TBXAS1', 'JAK1', 'RPSA', 'TMEM238', 'AC027031.2', 'MYO5B', 'ORAI2', 'RUFY1-AS1', 'AC097634.4', 'CHCHD10', 'EEF1AKNMT', 'C2CD4A', 'PIDD1', 'TBCC', 'LRRC37A3', 'SLC12A4', 'KCNH2', 'BCAR3', 'SNX4', 'EVC', 'VSIG10', 'CLIP2', 'CBLL1', 'AC005523.2', 'ADIRF-AS1', 'AL590822.3', 'UBE3A', 'PHPT1', 'AL031963.3', 'ARPIN-AP3S2', 'PRX', 'CHTF18', 'NFE2L2', 'GPR161', 'AC002550.1', 'AC091951.1', 'MAN2A2', 'MRPS6', 'SSTR1', 'AL021707.5', 'MAP3K5', 'RANBP3', 'PRPF6', 'TMEM38A', 'BCL6', 'HIVEP3', 'C19orf71', 'SLC2A8', 'B3GNT9', 'INO80', 'ACBD4', 'PKD1P3', 'AP001437.2', 'AC099568.2', 'ZFHX2', 'ZDHHC2', 'AC005972.3', 'TNFSF12-TNFSF13', 'LINC02062', 'PITPNM1', 'AC015818.5', 'MRPS2', 'NPDC1', 'SPSB4', 'TRMU', 'PHLDA1', 'DGCR5', 'PSMD12', 'RASAL2', 'NNT-AS1', 'FAF1', 'SH2D3A', 'MIR1538', 'POLR2A', 'LARGE2', 'ZMIZ1-AS1', 'AC079313.2', 'FOXRED2', 'FOXJ2', 'VIM-AS1', 'ZNF574', 'AC074051.3', 'AL589666.1', 'ZDHHC8', 'AC090945.1', 'LMNTD2', 'C17orf97', 'ADCK2', 'TPST1', 'AC093673.1', 'AC022098.1', 'RAD54L2', 'KCNAB2', 'CCDC65', 'NCDN', 'ATL1', 'SBK2', 'TOR1A', 'CPNE7', 'AC133555.6', 'ITPR3', 'PEX11G', 'RB1', 'AL772363.1', 'PRDM12', 'ZFAND3', 'ID1', 'ZNF131', 'BZW1', 'AC008537.1', 'SIGMAR1', 'AC079305.1', 'HOXC6', 'FAM167B', 'ITPKA', 'PLEKHG2', 'BCL7A', 'AC007192.2', 'AC133550.2', 'FAT4', 'ZEB1-AS1', 'CCDC78', 'VPS9D1', 'CERK', 'WASHC1', 'AC092143.3', 'KSR2', 'MTHFD1L', 'Z83844.2', 'FBXL16', 'GNB5', 'SUMF2', 'AC016888.1', 'DTNB', 'UNC45A', 'AL691432.2', 'NR6A1', 'AC005837.2', 'PLXNA3', 'DPYSL2', 'HOXD4', 'ADD1', 'MSANTD2', 'CALM1', 'RNF213', 'CHIC2', 'PLEKHG5', 'ZNF785', 'MIR1915HG', 'ANKZF1', 'TMEM198', 'ARSI', 'TCF25', 'CLCF1', 'ITGA5', 'CNOT9', 'ZNF432', 'POLR3H', 'PHKB', 'ZNF706', 'AC084125.2', 'SMG1P1', 'KLHL26', 'RRM2', 'SON', 'AC013391.2', 'AC067852.2', 'AP2M1', 'SMIM13', 'PNKD', 'TTC28-AS1', 'INPP5J', 'MCM8', 'HECW1', 'AL031847.1', 'CFL1', 'DIPK1B', 'USP41', 'RPL32P3', 'TSSK3', 'PLA2G6', 'CEBPA', 'CLEC16A', 'SF3A2', 'ANXA11', 'MAST3', 'CAMK1', 'TMCO3', 'ZNRF2P1', 'YJEFN3', 'WFDC3', 'NDUFA6-DT', 'SELENBP1', 'U2AF1', 'KIF26B', 'AC000093.1', 'MIEF2', 'SCAF4', 'CSRNP2', 'PCED1CP', 'PLEK2', 'AC026464.6', 'SCNN1A', 'SPAG16', 'AL390719.1', 'SNRK', 'BCAT2', 'ALDOA', 'NSMAF', 'ZNF251', 'DYRK1B', 'LINC00482', 'POLD2', 'TASOR2', 'AMOTL1', 'AC010536.3', 'PROSER2-AS1', 'ITGB4', 'STK32B', 'AC068385.1', 'FAM201A', 'GSKIP', 'DHX30', 'RHOXF1P3', 'CYP2D6', 'WDR26', 'ITPR2', 'C10orf55', 'CLK3', 'USP43', 'C11orf80', 'ABCA17P', 'MAPK8IP1', 'RAB40B', 'SORCS2', 'PAPOLA', 'ZNF628', 'C1orf50', 'TSKU', 'TMEM63A', 'C11orf86', 'LINC01090', 'SCNN1D', 'AC093423.3', 'AC092338.1', 'CAMLG', 'SCCPDH', 'TXNL4A', 'RPS6KA5', 'MED26', 'SFT2D3', 'HAGHL', 'MNT', 'ASAP1', 'PRTFDC1', 'SLC35F3', 'USP11', 'AL096870.12', 'AC093246.1', 'PANK4', 'HYAL2', 'PXDN', 'METTL16', 'CRELD2', 'POGK', 'POU3F2', 'ASIC4-AS1', 'ETV3', 'KREMEN2', 'AC027601.5', 'CACNB3', 'CASP8', 'DDB1', 'NFXL1', 'AC092384.1', 'C16orf87', 'DGCR6', 'RPRD1A', 'EGLN3', 'AC137834.1', 'ZNF512B', 'BOLA1', 'PDCD6', 'TRMT2A', 'ATP2A1', 'RHBDL1', 'AKIP1', 'NADSYN1', 'NINJ2-AS1', 'AC087521.3', 'HDAC10', 'SPAG5-AS1', 'MTA3', 'LINC01118', 'MROH6', 'TUBB3', 'SPAG1', 'CRTC1', 'GCN1', 'RIPOR3', 'LRFN3', 'DCUN1D2', 'TPGS1', 'LRRC37A17P', 'MIR196B', 'FAAP20', 'SLC38A9', 'AC010894.3', 'MAP3K2', 'SGMS1-AS1', 'ARPIN', 'LINC00921', 'CCDC136', 'SLC7A1', 'AL139385.1', 'HAUS3', 'RASSF5', 'PRR5', 'CHST7', 'AC026740.1', 'AC020922.2', 'COL22A1', 'AC009065.2', 'JUP', 'LFNG', 'MIR4749', 'FAM122A', 'RFNG', 'AL596442.3', 'THOC7', 'TRUB2', 'AC090004.1', 'BLCAP', 'KCTD2', 'OGFOD2', 'COBL', 'AL022238.3', 'S100A16', 'MEIS3P1', 'AGAP2', 'AC021594.1', 'ZKSCAN7', 'CSRNP1', 'RNF44', 'MIR600HG', 'AL157935.2', 'PANX2', 'RARA-AS1', 'MMP17', 'SHROOM3-AS1', 'AC034102.2', 'NPHP4', 'FOXL1', 'SHB', 'AC130456.4', 'RAN', 'KCNN1', 'PDCD10', 'SUGP2', 'AC112236.2', 'SCYL2', 'PLEKHN1', 'NFE2', 'EIF3G', 'WDR41', 'AC004408.1', 'FBXL18', 'AC079807.1', 'PLAAT3', 'RELB', 'MEX3A', 'THORLNC', 'LINC00896', 'PHF12', 'FOXD3', 'IRF7', 'CPSF7', 'AP003119.1', 'AC034102.5', 'AL136366.1', 'CIAO2B', 'AC010531.1', 'GLUD1P3', 'CCS', 'OCRL', 'AC139099.2', 'HERC3', 'TRMT6', 'AC011611.3', 'NEMP2', 'BID', 'AL365330.1', 'CHD5', 'EMC9', 'GSTM3', 'NME3', 'FMN2', 'ARL13A', 'ALDH3A1', 'EEFSEC', 'EXOC7', 'AC040977.2', 'LSM14B', 'NFATC3', 'NPIPA1', 'AC008403.2', 'BX322234.1', 'LPP', 'MFSD1', 'ATP8B1', 'ATXN2L', 'RPP25', 'TM9SF1', 'AC008481.3', 'GNAZ', 'AC073508.3', 'PAQR4', 'ZFX', 'P4HA3-AS1', 'KATNB1', 'RELL2', 'ESPN', 'PPP2R1A', 'AL133343.1', 'IPPK', 'TUSC2', 'NOL4L-DT', 'AC055811.2', 'LRRC3', 'MISP3', 'AC147067.1', 'SSBL3P1', 'FUOM', 'FAM210A', 'LRBA', 'YTHDF2', 'TBCEL', 'SHLD2', 'KCNH3', 'AC002116.2', 'GPS1', 'MSRB2', 'WDR83', 'AL645728.1', 'ACO2', 'PRG4', 'AC114730.1', 'TPCN2', 'ZNF341', 'AL021707.3', 'GNAI1', 'ZNF771', 'RBSN', 'ECHS1', 'AC073263.1', 'LINC01271', 'SMIM20', 'TDP2', 'FBXL20', 'AC034139.1', 'AC012615.3', 'C11orf98', 'SLC38A1', 'PRR7', 'KRAS', 'OPLAH', 'POMGNT2', 'SERPINB9P1', 'AC078927.1', 'AC021321.1', 'AC188617.1', 'NCK2', 'AC010619.1', 'CSGALNACT1', 'CBR4', 'C16orf95', 'AC003102.1', 'AL355385.2', 'MAP3K4-AS1', 'PPIA', 'ZACN', 'TRAPPC3', 'TVP23A', 'AC117481.1', 'URGCP', 'AP5M1', 'PLIN5', 'REL', 'NHS', 'MIF', 'CBL', 'FAM207BP', 'FZD10', 'SCART1', 'PPIL6', 'AL136295.1', 'NOA1', 'OAZ3', 'TBC1D24', 'ULK2', 'ZNF446', 'AP006621.1', 'CALCOCO1', 'TBC1D8', 'AC018709.1', 'RBM26', 'SBK3', 'AC025449.2', 'NXPH3', 'CCDC144NL', 'AC008622.2', 'KCNJ14', 'CEMP1', 'PLEKHJ1', 'RP11-40F8.2', 'CHMP1A', 'CCDC57', 'DENND2D', 'NSFL1C', 'SMURF2', 'AC010422.3', 'NAPRT', 'THUMPD3-AS1', 'ACSF3', 'NR0B1', 'FIZ1', 'CEBPA-DT', 'FBXO41', 'IER5L', 'LCN10', 'AC073111.3', 'MXD1', 'SLC25A42', 'PDGFRB', 'VAC14', 'AC093909.3', 'AP006621.4', 'PEMT', 'TSPAN10', 'NMRAL1', 'RAB22A', 'CALY', 'IQANK1', 'CARS2', 'INHBE', 'P4HA2', 'CRACR2B', 'TMCO4', 'AC233723.2', 'AL355312.3', 'TSHZ1', 'IDE', 'SIL1', 'TRAK2', 'C17orf58', 'SNX20', 'AC138696.1', 'AF117829.1', 'MIR711', 'PCED1B', 'ACTR3C', 'DNAI1', 'GABARAPL1', 'NHSL1', 'NPB', 'GTF2I', 'SLC5A3', 'LIMD1', 'SSR4P1', 'KAT8', 'CCDC115', 'ZSWIM8-AS1', 'OXSM', 'EVA1B', 'ZXDA', 'CHMP6', 'KLHL42', 'STBD1', 'ZNF414', 'PAQR8', 'LINC01106', 'MIR4674', 'GJC1', 'TRPM2-AS', 'ZNF425', 'ADAP1', 'Z94160.2', 'SPSB3', 'MAP3K6', 'AC018653.3', 'SPECC1L-ADORA2A', 'RBPMS-AS1', 'KLHDC2', 'MAFA', 'PPP3R1', 'AP000471.1', 'AC006449.6', 'RASSF8-AS1', 'AC073517.1', 'AC068580.4', 'SNAI3-AS1', 'AL442071.2', 'DGCR8', 'ANKRD39', 'AC004832.3', 'RPRML', 'NUP153', 'TINCR', 'ADNP2', 'ANKRD42', 'TARBP2', 'AL096870.2', 'BIRC6', 'SLC22A23', 'CCNI', 'USP31', 'IFT172', 'AC080038.3', 'AC012360.1', 'PYCR1', 'CIB2', 'Z97652.1', 'AL139353.2', 'SOBP', 'LINC02298', 'AC002470.2', 'AC008453.2', 'CRTC3', 'SLC5A10', 'CPTP', 'INPP5E', 'DHRS4-AS1', 'FHL3', 'HOXB-AS3', 'LINC00319', 'AP001458.2', 'AFF1', 'TMEM44', 'ZHX3', 'DRG1', 'ZNF653', 'LSM7', 'GTPBP4', 'AL021918.5', 'PKP2', 'ABHD15', 'SLC9A3', 'PNKP', 'RNF4', 'AC004951.4', 'VPS53', 'TRAK1', 'PKNOX1', 'AL590326.1', 'STRBP', 'PTPN13', 'AC016831.6', 'EGFL7', 'NGLY1', 'CDK3', 'USP13', 'AC026471.1', 'PIGU', 'ANGPTL6', 'PAXIP1-AS1', 'COL16A1', 'AC245140.3', 'STAC2', 'FAM174A', 'AC104078.1', 'DHRS3', 'AL162231.1', 'CHD7', 'CISD3', 'SMYD4', 'CAND1', 'RAB17', 'AC131097.1', 'AADAT', 'DNAJB2', 'SSU72', 'RPH3AL', 'RASSF7', 'GRAMD1B', 'APOL2', 'SLC10A3', 'FAM117B', 'C6orf223', 'PCNP', 'RNF150', 'ETV2', 'CXXC1', 'FN3KRP', 'FGFR4', 'AC130462.2', 'RUSF1', 'MMP24', 'AC010327.4', 'ZNF747', 'KDM2B', 'GOLGA3', 'THAP11', 'STAT6', 'SLC34A3', 'AP5Z1', 'CCNL2', 'NALT1', 'FOXC2', 'C19orf48', 'GSTM5', 'AL158847.1', 'C8orf74', 'NOG', 'TMPO-AS1', 'C2CD2', 'MAN2C1', 'SPHK1', 'ELL', 'PRKCE', 'RHOF', 'ATXN1', 'C16orf74', 'MAPK7', 'FAM107B', 'RNF149', 'AC018809.3', 'CHRNB2', 'TRIM47', 'CCDC92', 'ZNF76', 'COMMD5', 'UBE2E1-AS1', 'EOGT', 'AC064852.1', 'SIRT5', 'QRICH1', 'AC010327.2', 'PCBP4', 'ATP6V0B', 'GNA13', 'MMP25', 'C2orf88', 'TMEM183A', 'MCFD2', 'PPM1D', 'AFF3', 'RPS6KA2', 'AC012313.3', 'FAM234A', 'MYDGF', 'SMG9', 'NFS1', 'GOLGA8A', 'SETD2', 'ZBTB45', 'CDKN1A', 'EXOSC6', 'SRSF1', 'EPHA1-AS1', 'RARG', 'ARMC6', 'KDM3B', 'IFT43', 'AC008105.2', 'SESN1', 'AC104116.1', 'TRMT44', 'SLC48A1', 'GAS8', 'AMFR', 'HIPK3', 'TNRC6B', 'ZNF841', 'SELENOO', 'AC132938.4', 'SF3A1', 'SNHG29', 'CAMKK1', 'SMCHD1', 'MIR17HG', 'AC002310.1', 'RSPRY1', 'AC015909.1', 'LINC01089', 'SLC9A5', 'ATP6V0E2-AS1', 'TERF2IP', 'GPC5', 'AC108488.3', 'VPS9D1-AS1', 'RNF130', 'SOCS6', 'LINC01983', 'SLC37A1', 'SGPL1', 'TMC4', 'TOX2', 'GDI1', 'LINC01270', 'PMS1', 'RBL1', 'PCSK9', 'MUC6', 'CHERP', 'AC005670.2', 'UBE2F-SCLY', 'CASKIN1', 'L1CAM', 'SLC41A1', 'TUFM', 'SEPTIN3', 'BICRAL', 'WIPF1', 'BRI3BP', 'NINL', 'RFX2', 'LMX1B', 'AC004233.1', 'WDR20', 'SLX1A-SULT1A3', 'SFRP4', 'ASRGL1', 'SIDT2', 'INTS1', 'TSC22D3', 'AAMDC', 'NDUFA13', 'ADGRB1', 'TCF7L2', 'BASP1-AS1', 'RIMBP2', 'CDK10', 'MEA1', 'AP001062.3', 'AL928654.2', 'PCGF2', 'ECD', 'AC130343.3', 'GALNT1', 'XXYLT1', 'AC000072.1', 'NEBL', 'MOB3C', 'PPRC1', 'SHMT2', 'HR', 'DACT2', 'ZNF202', 'EPN3', 'AL035461.3', 'AC108047.1', 'SLC39A3', 'GAL3ST2', 'LINC01833', 'NDUFA3', 'PTPRS', 'MXI1', 'IDUA', 'MEX3B', 'TSC2', 'ZSWIM8', 'FOXO3B', 'ACVR2B-AS1', 'PDXP', 'CATSPER2', 'TET3', 'USP34', 'ADAMTS10', 'OTUD4', 'FRMD8', 'ZFX-AS1', 'AC004223.3', 'OR2S1P', 'CNPY2', 'DOCK11', 'ENTPD6', 'PRKAR1A', 'DPF1', 'EIF4EBP1', 'CNPPD1', 'RFX1', 'MXRA7P1', 'AKT1S1', 'AC002456.1', 'SLC25A25', 'ZFAND6', 'CASTOR3', 'TRPM2', 'AGAP11', 'ANKRD54', 'PCOLCE', 'CDH4', 'WDR33', 'PRDM4', 'AGPS', 'TBC1D5', 'FCHO2', 'NLGN2', 'RAB5C', 'ADAMTSL4', 'AL136295.5', 'MECOM', 'SLC12A2', 'PLEKHH3', 'ZFHX2-AS1', 'AL359198.1', 'CLTCL1', 'SLC12A7', 'HDAC7', 'NRSN2', 'AC211429.1', 'NUP62', 'AC005229.4', 'ZCCHC2', 'DPY19L3', 'AC105345.1', 'BTBD19', 'MOB2', 'ZFAND4', 'AC100810.1', 'PRTN3', 'PPP1R13L', 'SNCA', 'ST3GAL4', 'EFNA3', 'AC011476.2', 'RAPGEF3', 'TBC1D16', 'KCND3', 'AC105935.1', 'STAG3L5P', 'CCDC88B', 'TRIM11', 'DOC2A', 'MARCHF8', 'VPS13A-AS1', 'KIAA0232', 'APC2', 'TNFRSF12A', 'ERCC2', 'SRP14-AS1', 'ESCO1', 'SBK1', 'ABCC2', 'MCM3AP']\n"
          ],
          "name": "stdout"
        }
      ]
    },
    {
      "cell_type": "code",
      "metadata": {
        "colab": {
          "base_uri": "https://localhost:8080/"
        },
        "id": "B2JChyrrxAqi",
        "outputId": "05b021de-8526-4a68-e633-a2022ecf9313"
      },
      "source": [
        "len(NAT10)"
      ],
      "execution_count": 23,
      "outputs": [
        {
          "output_type": "execute_result",
          "data": {
            "text/plain": [
              "4728"
            ]
          },
          "metadata": {
            "tags": []
          },
          "execution_count": 23
        }
      ]
    },
    {
      "cell_type": "code",
      "metadata": {
        "colab": {
          "base_uri": "https://localhost:8080/"
        },
        "id": "yrdn6Famxbzv",
        "outputId": "dd73e1cf-28ff-4260-c786-28b21c51ae8f"
      },
      "source": [
        "len(HeLa)"
      ],
      "execution_count": 24,
      "outputs": [
        {
          "output_type": "execute_result",
          "data": {
            "text/plain": [
              "13346"
            ]
          },
          "metadata": {
            "tags": []
          },
          "execution_count": 24
        }
      ]
    },
    {
      "cell_type": "code",
      "metadata": {
        "colab": {
          "base_uri": "https://localhost:8080/"
        },
        "id": "bggEpI4Dxfev",
        "outputId": "3fb87de3-d801-4ede-f70b-2e93544eee15"
      },
      "source": [
        "len(set_difference_NAT10)"
      ],
      "execution_count": 25,
      "outputs": [
        {
          "output_type": "execute_result",
          "data": {
            "text/plain": [
              "355"
            ]
          },
          "metadata": {
            "tags": []
          },
          "execution_count": 25
        }
      ]
    },
    {
      "cell_type": "code",
      "metadata": {
        "colab": {
          "base_uri": "https://localhost:8080/"
        },
        "id": "k2b5v7zdxi1S",
        "outputId": "a08b7c75-a6d9-40fa-dc0d-4c96e3ff9fe7"
      },
      "source": [
        "len(set_difference_HeLa)"
      ],
      "execution_count": 26,
      "outputs": [
        {
          "output_type": "execute_result",
          "data": {
            "text/plain": [
              "3847"
            ]
          },
          "metadata": {
            "tags": []
          },
          "execution_count": 26
        }
      ]
    },
    {
      "cell_type": "code",
      "metadata": {
        "id": "A-1-CCaFyqkQ"
      },
      "source": [
        "import csv\n",
        "file = open('g4g.csv', 'w+', newline ='')\n",
        "\n",
        "\n",
        "with file:    \n",
        "    write = csv.writer(file)\n",
        "    write.writerows(set_difference_HeLa)"
      ],
      "execution_count": 27,
      "outputs": []
    },
    {
      "cell_type": "code",
      "metadata": {
        "id": "qRb2SuKr1tKZ"
      },
      "source": [
        "textfile = open(\"NAT10.txt\", \"w\")\n",
        "for element in set_difference_NAT10:\n",
        "    textfile.write(element + \"\\n\")\n",
        "textfile.close()"
      ],
      "execution_count": 33,
      "outputs": []
    },
    {
      "cell_type": "code",
      "metadata": {
        "id": "yTz8TY8kNpoV",
        "outputId": "eb7ddc13-594f-4fda-d844-b65e4a175642",
        "colab": {
          "base_uri": "https://localhost:8080/",
          "height": 17
        }
      },
      "source": [
        "from google.colab import files\n",
        "files.download('NAT10.txt')"
      ],
      "execution_count": 34,
      "outputs": [
        {
          "output_type": "display_data",
          "data": {
            "application/javascript": [
              "\n",
              "    async function download(id, filename, size) {\n",
              "      if (!google.colab.kernel.accessAllowed) {\n",
              "        return;\n",
              "      }\n",
              "      const div = document.createElement('div');\n",
              "      const label = document.createElement('label');\n",
              "      label.textContent = `Downloading \"${filename}\": `;\n",
              "      div.appendChild(label);\n",
              "      const progress = document.createElement('progress');\n",
              "      progress.max = size;\n",
              "      div.appendChild(progress);\n",
              "      document.body.appendChild(div);\n",
              "\n",
              "      const buffers = [];\n",
              "      let downloaded = 0;\n",
              "\n",
              "      const channel = await google.colab.kernel.comms.open(id);\n",
              "      // Send a message to notify the kernel that we're ready.\n",
              "      channel.send({})\n",
              "\n",
              "      for await (const message of channel.messages) {\n",
              "        // Send a message to notify the kernel that we're ready.\n",
              "        channel.send({})\n",
              "        if (message.buffers) {\n",
              "          for (const buffer of message.buffers) {\n",
              "            buffers.push(buffer);\n",
              "            downloaded += buffer.byteLength;\n",
              "            progress.value = downloaded;\n",
              "          }\n",
              "        }\n",
              "      }\n",
              "      const blob = new Blob(buffers, {type: 'application/binary'});\n",
              "      const a = document.createElement('a');\n",
              "      a.href = window.URL.createObjectURL(blob);\n",
              "      a.download = filename;\n",
              "      div.appendChild(a);\n",
              "      a.click();\n",
              "      div.remove();\n",
              "    }\n",
              "  "
            ],
            "text/plain": [
              "<IPython.core.display.Javascript object>"
            ]
          },
          "metadata": {
            "tags": []
          }
        },
        {
          "output_type": "display_data",
          "data": {
            "application/javascript": [
              "download(\"download_eafc1b2c-299b-4474-b934-febca9026a75\", \"NAT10.txt\", 2509)"
            ],
            "text/plain": [
              "<IPython.core.display.Javascript object>"
            ]
          },
          "metadata": {
            "tags": []
          }
        }
      ]
    },
    {
      "cell_type": "code",
      "metadata": {
        "id": "zQgcXmrUNrEF"
      },
      "source": [
        "textfile = open(\"HeLa.txt\", \"w\")\n",
        "for element in set_difference_HeLa:\n",
        "    textfile.write(element + \"\\n\")\n",
        "textfile.close()"
      ],
      "execution_count": 30,
      "outputs": []
    },
    {
      "cell_type": "code",
      "metadata": {
        "id": "y-Sb9Mj-NqDb",
        "outputId": "fedd87b2-de8a-4d9a-826a-1a663367a751",
        "colab": {
          "base_uri": "https://localhost:8080/",
          "height": 17
        }
      },
      "source": [
        "from google.colab import files\n",
        "files.download('HeLa.txt')"
      ],
      "execution_count": 31,
      "outputs": [
        {
          "output_type": "display_data",
          "data": {
            "application/javascript": [
              "\n",
              "    async function download(id, filename, size) {\n",
              "      if (!google.colab.kernel.accessAllowed) {\n",
              "        return;\n",
              "      }\n",
              "      const div = document.createElement('div');\n",
              "      const label = document.createElement('label');\n",
              "      label.textContent = `Downloading \"${filename}\": `;\n",
              "      div.appendChild(label);\n",
              "      const progress = document.createElement('progress');\n",
              "      progress.max = size;\n",
              "      div.appendChild(progress);\n",
              "      document.body.appendChild(div);\n",
              "\n",
              "      const buffers = [];\n",
              "      let downloaded = 0;\n",
              "\n",
              "      const channel = await google.colab.kernel.comms.open(id);\n",
              "      // Send a message to notify the kernel that we're ready.\n",
              "      channel.send({})\n",
              "\n",
              "      for await (const message of channel.messages) {\n",
              "        // Send a message to notify the kernel that we're ready.\n",
              "        channel.send({})\n",
              "        if (message.buffers) {\n",
              "          for (const buffer of message.buffers) {\n",
              "            buffers.push(buffer);\n",
              "            downloaded += buffer.byteLength;\n",
              "            progress.value = downloaded;\n",
              "          }\n",
              "        }\n",
              "      }\n",
              "      const blob = new Blob(buffers, {type: 'application/binary'});\n",
              "      const a = document.createElement('a');\n",
              "      a.href = window.URL.createObjectURL(blob);\n",
              "      a.download = filename;\n",
              "      div.appendChild(a);\n",
              "      a.click();\n",
              "      div.remove();\n",
              "    }\n",
              "  "
            ],
            "text/plain": [
              "<IPython.core.display.Javascript object>"
            ]
          },
          "metadata": {
            "tags": []
          }
        },
        {
          "output_type": "display_data",
          "data": {
            "application/javascript": [
              "download(\"download_31b1b398-09d7-421a-b034-936e0f21dae0\", \"HeLa.txt\", 28638)"
            ],
            "text/plain": [
              "<IPython.core.display.Javascript object>"
            ]
          },
          "metadata": {
            "tags": []
          }
        }
      ]
    },
    {
      "cell_type": "code",
      "metadata": {
        "id": "8mNUU0tXIQuB",
        "outputId": "5a3202c0-851d-489a-c21a-cd354661b3ad",
        "colab": {
          "base_uri": "https://localhost:8080/"
        }
      },
      "source": [
        "pip install PyDrive"
      ],
      "execution_count": 1,
      "outputs": [
        {
          "output_type": "stream",
          "text": [
            "Requirement already satisfied: PyDrive in /usr/local/lib/python3.7/dist-packages (1.3.1)\n",
            "Requirement already satisfied: PyYAML>=3.0 in /usr/local/lib/python3.7/dist-packages (from PyDrive) (3.13)\n",
            "Requirement already satisfied: google-api-python-client>=1.2 in /usr/local/lib/python3.7/dist-packages (from PyDrive) (1.12.8)\n",
            "Requirement already satisfied: oauth2client>=4.0.0 in /usr/local/lib/python3.7/dist-packages (from PyDrive) (4.1.3)\n",
            "Requirement already satisfied: six<2dev,>=1.13.0 in /usr/local/lib/python3.7/dist-packages (from google-api-python-client>=1.2->PyDrive) (1.15.0)\n",
            "Requirement already satisfied: google-api-core<2dev,>=1.21.0 in /usr/local/lib/python3.7/dist-packages (from google-api-python-client>=1.2->PyDrive) (1.26.3)\n",
            "Requirement already satisfied: google-auth-httplib2>=0.0.3 in /usr/local/lib/python3.7/dist-packages (from google-api-python-client>=1.2->PyDrive) (0.0.4)\n",
            "Requirement already satisfied: httplib2<1dev,>=0.15.0 in /usr/local/lib/python3.7/dist-packages (from google-api-python-client>=1.2->PyDrive) (0.17.4)\n",
            "Requirement already satisfied: uritemplate<4dev,>=3.0.0 in /usr/local/lib/python3.7/dist-packages (from google-api-python-client>=1.2->PyDrive) (3.0.1)\n",
            "Requirement already satisfied: google-auth>=1.16.0 in /usr/local/lib/python3.7/dist-packages (from google-api-python-client>=1.2->PyDrive) (1.32.1)\n",
            "Requirement already satisfied: protobuf>=3.12.0 in /usr/local/lib/python3.7/dist-packages (from google-api-core<2dev,>=1.21.0->google-api-python-client>=1.2->PyDrive) (3.17.3)\n",
            "Requirement already satisfied: pytz in /usr/local/lib/python3.7/dist-packages (from google-api-core<2dev,>=1.21.0->google-api-python-client>=1.2->PyDrive) (2018.9)\n",
            "Requirement already satisfied: packaging>=14.3 in /usr/local/lib/python3.7/dist-packages (from google-api-core<2dev,>=1.21.0->google-api-python-client>=1.2->PyDrive) (21.0)\n",
            "Requirement already satisfied: setuptools>=40.3.0 in /usr/local/lib/python3.7/dist-packages (from google-api-core<2dev,>=1.21.0->google-api-python-client>=1.2->PyDrive) (57.2.0)\n",
            "Requirement already satisfied: requests<3.0.0dev,>=2.18.0 in /usr/local/lib/python3.7/dist-packages (from google-api-core<2dev,>=1.21.0->google-api-python-client>=1.2->PyDrive) (2.23.0)\n",
            "Requirement already satisfied: googleapis-common-protos<2.0dev,>=1.6.0 in /usr/local/lib/python3.7/dist-packages (from google-api-core<2dev,>=1.21.0->google-api-python-client>=1.2->PyDrive) (1.53.0)\n",
            "Requirement already satisfied: rsa<5,>=3.1.4 in /usr/local/lib/python3.7/dist-packages (from google-auth>=1.16.0->google-api-python-client>=1.2->PyDrive) (4.7.2)\n",
            "Requirement already satisfied: pyasn1-modules>=0.2.1 in /usr/local/lib/python3.7/dist-packages (from google-auth>=1.16.0->google-api-python-client>=1.2->PyDrive) (0.2.8)\n",
            "Requirement already satisfied: cachetools<5.0,>=2.0.0 in /usr/local/lib/python3.7/dist-packages (from google-auth>=1.16.0->google-api-python-client>=1.2->PyDrive) (4.2.2)\n",
            "Requirement already satisfied: pyasn1>=0.1.7 in /usr/local/lib/python3.7/dist-packages (from oauth2client>=4.0.0->PyDrive) (0.4.8)\n",
            "Requirement already satisfied: pyparsing>=2.0.2 in /usr/local/lib/python3.7/dist-packages (from packaging>=14.3->google-api-core<2dev,>=1.21.0->google-api-python-client>=1.2->PyDrive) (2.4.7)\n",
            "Requirement already satisfied: chardet<4,>=3.0.2 in /usr/local/lib/python3.7/dist-packages (from requests<3.0.0dev,>=2.18.0->google-api-core<2dev,>=1.21.0->google-api-python-client>=1.2->PyDrive) (3.0.4)\n",
            "Requirement already satisfied: idna<3,>=2.5 in /usr/local/lib/python3.7/dist-packages (from requests<3.0.0dev,>=2.18.0->google-api-core<2dev,>=1.21.0->google-api-python-client>=1.2->PyDrive) (2.10)\n",
            "Requirement already satisfied: urllib3!=1.25.0,!=1.25.1,<1.26,>=1.21.1 in /usr/local/lib/python3.7/dist-packages (from requests<3.0.0dev,>=2.18.0->google-api-core<2dev,>=1.21.0->google-api-python-client>=1.2->PyDrive) (1.24.3)\n",
            "Requirement already satisfied: certifi>=2017.4.17 in /usr/local/lib/python3.7/dist-packages (from requests<3.0.0dev,>=2.18.0->google-api-core<2dev,>=1.21.0->google-api-python-client>=1.2->PyDrive) (2021.5.30)\n"
          ],
          "name": "stdout"
        }
      ]
    },
    {
      "cell_type": "code",
      "metadata": {
        "id": "uOX8LIGaIe5b"
      },
      "source": [
        "from pydrive.auth import GoogleAuth\n",
        "from pydrive.drive import GoogleDrive\n",
        "import os"
      ],
      "execution_count": 6,
      "outputs": []
    }
  ]
}